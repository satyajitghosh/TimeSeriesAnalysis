{
 "cells": [
  {
   "cell_type": "markdown",
   "id": "9349c745",
   "metadata": {},
   "source": [
    "### Importing Relevant Packages"
   ]
  },
  {
   "cell_type": "code",
   "execution_count": 8,
   "id": "50c6e238",
   "metadata": {},
   "outputs": [],
   "source": [
    "import pandas as pd\n",
    "import numpy as np\n",
    "import matplotlib.pyplot as plt\n",
    "import statsmodels.graphics.tsaplots as sgt\n",
    "import statsmodels.tsa.stattools as sts\n",
    "from statsmodels.tsa.seasonal import seasonal_decompose\n",
    "import seaborn as sns\n",
    "sns.set()"
   ]
  },
  {
   "cell_type": "markdown",
   "id": "0c85343b",
   "metadata": {},
   "source": [
    "### Loading and Transforming the Data"
   ]
  },
  {
   "cell_type": "code",
   "execution_count": 9,
   "id": "c2cec28b",
   "metadata": {},
   "outputs": [],
   "source": [
    "raw_csv_data = pd.read_csv(\"data/Index2018.csv\")\n",
    "df_comp = raw_csv_data.copy()\n",
    "df_comp.date = pd.to_datetime(df_comp.date, format = \"%d/%m/%Y\")\n",
    "df_comp.set_index(\"date\",inplace = True)\n",
    "df_comp = df_comp.asfreq('b')\n",
    "df_comp = df_comp.fillna(method='ffill')"
   ]
  },
  {
   "cell_type": "markdown",
   "id": "789f63ad",
   "metadata": {},
   "source": [
    "### Removing Surplus Data"
   ]
  },
  {
   "cell_type": "code",
   "execution_count": 10,
   "id": "188b79b0",
   "metadata": {},
   "outputs": [],
   "source": [
    "df_comp['market_value'] = df_comp.spx\n",
    "del df_comp['spx'],df_comp['dax'],df_comp['ftse'],df_comp['nikkei']\n",
    "size = int(len(df_comp) * 0.8)\n",
    "df,df_test = df_comp.iloc[:size],df_comp.iloc[size:]"
   ]
  },
  {
   "cell_type": "markdown",
   "id": "7b8f3665",
   "metadata": {},
   "source": [
    "\n",
    "### White Noise\n"
   ]
  },
  {
   "cell_type": "markdown",
   "id": "e9c6b758",
   "metadata": {},
   "source": [
    "White Noise is a time series, where every time point has a random value associated with it. There is no relationship between the past and present data, and, as a result, the future values cannot be predicted using past data. For a predictable time series, there has to be some relationship between the past and the future data, and the absence of such a relationship makes it impossible to predict future data using the past data. \n",
    "\n",
    "Mathematically, White Noise satisfiles the following 3 properties. \n",
    "\n",
    "* 1) Constant Mean. \n",
    "* 2) Constant Variance. \n",
    "* 3) No autocorrelation between any period.\n",
    "\n",
    "Note, the absence of autocorrelation indicates absence of relationship between the past and future time series data. "
   ]
  },
  {
   "cell_type": "code",
   "execution_count": null,
   "id": "f2c36a76",
   "metadata": {},
   "outputs": [],
   "source": []
  }
 ],
 "metadata": {
  "kernelspec": {
   "display_name": "Python 3 (ipykernel)",
   "language": "python",
   "name": "python3"
  },
  "language_info": {
   "codemirror_mode": {
    "name": "ipython",
    "version": 3
   },
   "file_extension": ".py",
   "mimetype": "text/x-python",
   "name": "python",
   "nbconvert_exporter": "python",
   "pygments_lexer": "ipython3",
   "version": "3.9.1"
  }
 },
 "nbformat": 4,
 "nbformat_minor": 5
}
