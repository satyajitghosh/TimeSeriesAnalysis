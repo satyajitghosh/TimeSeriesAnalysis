{
 "cells": [
  {
   "cell_type": "markdown",
   "id": "2365068b",
   "metadata": {},
   "source": [
    "### Moving Average Models"
   ]
  },
  {
   "cell_type": "markdown",
   "id": "24912017",
   "metadata": {},
   "source": [
    "The AR models do a pretty good job predicting the stationary time series, but as we can see from the residual curves, the quality of prediction deteriorates when there are sudden changes in values. Moving average models address this issue by taking into account the size of prediction errors, when predicting the current value.\n",
    "\n",
    "$r_{t} = c + \\theta_{1} \\epsilon_{t-1} + \\epsilon_{t}$\n",
    "\n",
    "To chose the appropriate number of lags in the MA model, we use ACF instead of PACF, as we would like to consider the direct and the indirect affect of the lags.\n",
    "\n",
    "The parameters of the ARIMA(p,d,q) model are defined as follows:- \n",
    "* p: The number of lag observations included in the model, also called the lag order.\n",
    "* d: The number of times that the raw observations are differenced, also called the degree of differencing.\n",
    "* q: The size of the moving average window, also called the order of moving average."
   ]
  },
  {
   "cell_type": "code",
   "execution_count": 2,
   "id": "b706fef6",
   "metadata": {},
   "outputs": [],
   "source": [
    "import pandas as pd\n",
    "import numpy as np\n",
    "import matplotlib.pyplot as plt\n",
    "import statsmodels.graphics.tsaplots as sgt\n",
    "from statsmodels.tsa.arima.model import ARIMA\n",
    "import statsmodels.tsa.stattools as sts\n",
    "from statsmodels.tsa.seasonal import seasonal_decompose\n",
    "from scipy.stats.distributions import chi2\n",
    "from math import sqrt\n",
    "import seaborn as sns\n",
    "sns.set()"
   ]
  },
  {
   "cell_type": "code",
   "execution_count": 3,
   "id": "92149458",
   "metadata": {},
   "outputs": [],
   "source": [
    "raw_csv_data = pd.read_csv(\"data/Index2018.csv\")\n",
    "df_comp = raw_csv_data.copy()\n",
    "df_comp.date = pd.to_datetime(df_comp.date, format = \"%d/%m/%Y\")\n",
    "df_comp.set_index(\"date\",inplace = True)\n",
    "df_comp = df_comp.asfreq('b')\n",
    "df_comp = df_comp.fillna(method='ffill')\n",
    "df_comp['market_value'] = df_comp.ftse\n",
    "del df_comp['spx'],df_comp['dax'],df_comp['ftse'],df_comp['nikkei']\n",
    "size = int(len(df_comp) * 0.8)\n",
    "df,df_test = df_comp.iloc[:size],df_comp.iloc[size:]"
   ]
  },
  {
   "cell_type": "code",
   "execution_count": 4,
   "id": "fdc8d978",
   "metadata": {},
   "outputs": [],
   "source": [
    "def LLR_test(mod_1,mod_2,DF=1):\n",
    "    L1 = mod_1.fit().llf\n",
    "    L2 = mod_2.fit().llf\n",
    "    LR = 2 * (L2 - L1)\n",
    "    p=chi2.sf(LR,DF).round(3)\n",
    "    return p"
   ]
  },
  {
   "cell_type": "code",
   "execution_count": 5,
   "id": "641f7b0b",
   "metadata": {},
   "outputs": [
    {
     "name": "stderr",
     "output_type": "stream",
     "text": [
      "C:\\Users\\Admin\\AppData\\Local\\Temp/ipykernel_5344/927300507.py:1: SettingWithCopyWarning: \n",
      "A value is trying to be set on a copy of a slice from a DataFrame.\n",
      "Try using .loc[row_indexer,col_indexer] = value instead\n",
      "\n",
      "See the caveats in the documentation: https://pandas.pydata.org/pandas-docs/stable/user_guide/indexing.html#returning-a-view-versus-a-copy\n",
      "  df['returns'] = df.market_value.pct_change(1) * 100\n"
     ]
    }
   ],
   "source": [
    "df['returns'] = df.market_value.pct_change(1) * 100"
   ]
  },
  {
   "cell_type": "code",
   "execution_count": 9,
   "id": "2523d351",
   "metadata": {},
   "outputs": [
    {
     "data": {
      "image/png": "[encoded data removed]",
      "text/plain": [
       "<Figure size 432x288 with 1 Axes>"
      ]
     },
     "metadata": {},
     "output_type": "display_data"
    }
   ],
   "source": [
    "sgt.plot_acf(df.returns[1:],lags=40,zero=False)\n",
    "plt.title('ACF for Returns',size=24)\n",
    "plt.ylim(-0.2,0.2)\n",
    "plt.show()"
   ]
  },
  {
   "cell_type": "markdown",
   "id": "213fb845",
   "metadata": {},
   "source": [
    "### MA(1) for returns"
   ]
  },
  {
   "cell_type": "code",
   "execution_count": 12,
   "id": "9df7c0b6",
   "metadata": {},
   "outputs": [
    {
     "data": {
      "text/html": [
       "<table class=\"simpletable\">\n",
       "<caption>SARIMAX Results</caption>\n",
       "<tr>\n",
       "  <th>Dep. Variable:</th>        <td>returns</td>     <th>  No. Observations:  </th>   <td>5020</td>   \n",
       "</tr>\n",
       "<tr>\n",
       "  <th>Model:</th>            <td>ARIMA(0, 0, 1)</td>  <th>  Log Likelihood     </th> <td>-7929.595</td>\n",
       "</tr>\n",
       "<tr>\n",
       "  <th>Date:</th>            <td>Sun, 21 Nov 2021</td> <th>  AIC                </th> <td>15865.190</td>\n",
       "</tr>\n",
       "<tr>\n",
       "  <th>Time:</th>                <td>15:36:49</td>     <th>  BIC                </th> <td>15884.754</td>\n",
       "</tr>\n",
       "<tr>\n",
       "  <th>Sample:</th>             <td>01-10-1994</td>    <th>  HQIC               </th> <td>15872.045</td>\n",
       "</tr>\n",
       "<tr>\n",
       "  <th></th>                   <td>- 04-05-2013</td>   <th>                     </th>     <td> </td>    \n",
       "</tr>\n",
       "<tr>\n",
       "  <th>Covariance Type:</th>        <td>opg</td>       <th>                     </th>     <td> </td>    \n",
       "</tr>\n",
       "</table>\n",
       "<table class=\"simpletable\">\n",
       "<tr>\n",
       "     <td></td>       <th>coef</th>     <th>std err</th>      <th>z</th>      <th>P>|z|</th>  <th>[0.025</th>    <th>0.975]</th>  \n",
       "</tr>\n",
       "<tr>\n",
       "  <th>const</th>  <td>    0.0188</td> <td>    0.016</td> <td>    1.146</td> <td> 0.252</td> <td>   -0.013</td> <td>    0.051</td>\n",
       "</tr>\n",
       "<tr>\n",
       "  <th>ma.L1</th>  <td>   -0.0257</td> <td>    0.009</td> <td>   -3.018</td> <td> 0.003</td> <td>   -0.042</td> <td>   -0.009</td>\n",
       "</tr>\n",
       "<tr>\n",
       "  <th>sigma2</th> <td>    1.3789</td> <td>    0.014</td> <td>   99.990</td> <td> 0.000</td> <td>    1.352</td> <td>    1.406</td>\n",
       "</tr>\n",
       "</table>\n",
       "<table class=\"simpletable\">\n",
       "<tr>\n",
       "  <th>Ljung-Box (L1) (Q):</th>     <td>0.01</td> <th>  Jarque-Bera (JB):  </th> <td>7852.85</td>\n",
       "</tr>\n",
       "<tr>\n",
       "  <th>Prob(Q):</th>                <td>0.92</td> <th>  Prob(JB):          </th>  <td>0.00</td>  \n",
       "</tr>\n",
       "<tr>\n",
       "  <th>Heteroskedasticity (H):</th> <td>2.04</td> <th>  Skew:              </th>  <td>-0.03</td> \n",
       "</tr>\n",
       "<tr>\n",
       "  <th>Prob(H) (two-sided):</th>    <td>0.00</td> <th>  Kurtosis:          </th>  <td>9.13</td>  \n",
       "</tr>\n",
       "</table><br/><br/>Warnings:<br/>[1] Covariance matrix calculated using the outer product of gradients (complex-step)."
      ],
      "text/plain": [
       "<class 'statsmodels.iolib.summary.Summary'>\n",
       "\"\"\"\n",
       "                               SARIMAX Results                                \n",
       "==============================================================================\n",
       "Dep. Variable:                returns   No. Observations:                 5020\n",
       "Model:                 ARIMA(0, 0, 1)   Log Likelihood               -7929.595\n",
       "Date:                Sun, 21 Nov 2021   AIC                          15865.190\n",
       "Time:                        15:36:49   BIC                          15884.754\n",
       "Sample:                    01-10-1994   HQIC                         15872.045\n",
       "                         - 04-05-2013                                         \n",
       "Covariance Type:                  opg                                         \n",
       "==============================================================================\n",
       "                 coef    std err          z      P>|z|      [0.025      0.975]\n",
       "------------------------------------------------------------------------------\n",
       "const          0.0188      0.016      1.146      0.252      -0.013       0.051\n",
       "ma.L1         -0.0257      0.009     -3.018      0.003      -0.042      -0.009\n",
       "sigma2         1.3789      0.014     99.990      0.000       1.352       1.406\n",
       "===================================================================================\n",
       "Ljung-Box (L1) (Q):                   0.01   Jarque-Bera (JB):              7852.85\n",
       "Prob(Q):                              0.92   Prob(JB):                         0.00\n",
       "Heteroskedasticity (H):               2.04   Skew:                            -0.03\n",
       "Prob(H) (two-sided):                  0.00   Kurtosis:                         9.13\n",
       "===================================================================================\n",
       "\n",
       "Warnings:\n",
       "[1] Covariance matrix calculated using the outer product of gradients (complex-step).\n",
       "\"\"\""
      ]
     },
     "execution_count": 12,
     "metadata": {},
     "output_type": "execute_result"
    }
   ],
   "source": [
    "model_ret_ma_1 = ARIMA(df.returns[1:],order=(0,0,1))\n",
    "results_ret_ma_1 = model_ret_ma_1.fit()\n",
    "results_ret_ma_1.summary()"
   ]
  },
  {
   "cell_type": "code",
   "execution_count": 13,
   "id": "cb835ced",
   "metadata": {},
   "outputs": [
    {
     "data": {
      "text/html": [
       "<table class=\"simpletable\">\n",
       "<caption>SARIMAX Results</caption>\n",
       "<tr>\n",
       "  <th>Dep. Variable:</th>        <td>returns</td>     <th>  No. Observations:  </th>   <td>5020</td>   \n",
       "</tr>\n",
       "<tr>\n",
       "  <th>Model:</th>            <td>ARIMA(0, 0, 2)</td>  <th>  Log Likelihood     </th> <td>-7922.864</td>\n",
       "</tr>\n",
       "<tr>\n",
       "  <th>Date:</th>            <td>Sun, 21 Nov 2021</td> <th>  AIC                </th> <td>15853.728</td>\n",
       "</tr>\n",
       "<tr>\n",
       "  <th>Time:</th>                <td>15:48:27</td>     <th>  BIC                </th> <td>15879.812</td>\n",
       "</tr>\n",
       "<tr>\n",
       "  <th>Sample:</th>             <td>01-10-1994</td>    <th>  HQIC               </th> <td>15862.868</td>\n",
       "</tr>\n",
       "<tr>\n",
       "  <th></th>                   <td>- 04-05-2013</td>   <th>                     </th>     <td> </td>    \n",
       "</tr>\n",
       "<tr>\n",
       "  <th>Covariance Type:</th>        <td>opg</td>       <th>                     </th>     <td> </td>    \n",
       "</tr>\n",
       "</table>\n",
       "<table class=\"simpletable\">\n",
       "<tr>\n",
       "     <td></td>       <th>coef</th>     <th>std err</th>      <th>z</th>      <th>P>|z|</th>  <th>[0.025</th>    <th>0.975]</th>  \n",
       "</tr>\n",
       "<tr>\n",
       "  <th>const</th>  <td>    0.0188</td> <td>    0.016</td> <td>    1.204</td> <td> 0.228</td> <td>   -0.012</td> <td>    0.049</td>\n",
       "</tr>\n",
       "<tr>\n",
       "  <th>ma.L1</th>  <td>   -0.0327</td> <td>    0.009</td> <td>   -3.760</td> <td> 0.000</td> <td>   -0.050</td> <td>   -0.016</td>\n",
       "</tr>\n",
       "<tr>\n",
       "  <th>ma.L2</th>  <td>   -0.0502</td> <td>    0.008</td> <td>   -6.416</td> <td> 0.000</td> <td>   -0.066</td> <td>   -0.035</td>\n",
       "</tr>\n",
       "<tr>\n",
       "  <th>sigma2</th> <td>    1.3753</td> <td>    0.014</td> <td>   99.021</td> <td> 0.000</td> <td>    1.348</td> <td>    1.402</td>\n",
       "</tr>\n",
       "</table>\n",
       "<table class=\"simpletable\">\n",
       "<tr>\n",
       "  <th>Ljung-Box (L1) (Q):</th>     <td>0.08</td> <th>  Jarque-Bera (JB):  </th> <td>7657.23</td>\n",
       "</tr>\n",
       "<tr>\n",
       "  <th>Prob(Q):</th>                <td>0.77</td> <th>  Prob(JB):          </th>  <td>0.00</td>  \n",
       "</tr>\n",
       "<tr>\n",
       "  <th>Heteroskedasticity (H):</th> <td>2.03</td> <th>  Skew:              </th>  <td>-0.08</td> \n",
       "</tr>\n",
       "<tr>\n",
       "  <th>Prob(H) (two-sided):</th>    <td>0.00</td> <th>  Kurtosis:          </th>  <td>9.05</td>  \n",
       "</tr>\n",
       "</table><br/><br/>Warnings:<br/>[1] Covariance matrix calculated using the outer product of gradients (complex-step)."
      ],
      "text/plain": [
       "<class 'statsmodels.iolib.summary.Summary'>\n",
       "\"\"\"\n",
       "                               SARIMAX Results                                \n",
       "==============================================================================\n",
       "Dep. Variable:                returns   No. Observations:                 5020\n",
       "Model:                 ARIMA(0, 0, 2)   Log Likelihood               -7922.864\n",
       "Date:                Sun, 21 Nov 2021   AIC                          15853.728\n",
       "Time:                        15:48:27   BIC                          15879.812\n",
       "Sample:                    01-10-1994   HQIC                         15862.868\n",
       "                         - 04-05-2013                                         \n",
       "Covariance Type:                  opg                                         \n",
       "==============================================================================\n",
       "                 coef    std err          z      P>|z|      [0.025      0.975]\n",
       "------------------------------------------------------------------------------\n",
       "const          0.0188      0.016      1.204      0.228      -0.012       0.049\n",
       "ma.L1         -0.0327      0.009     -3.760      0.000      -0.050      -0.016\n",
       "ma.L2         -0.0502      0.008     -6.416      0.000      -0.066      -0.035\n",
       "sigma2         1.3753      0.014     99.021      0.000       1.348       1.402\n",
       "===================================================================================\n",
       "Ljung-Box (L1) (Q):                   0.08   Jarque-Bera (JB):              7657.23\n",
       "Prob(Q):                              0.77   Prob(JB):                         0.00\n",
       "Heteroskedasticity (H):               2.03   Skew:                            -0.08\n",
       "Prob(H) (two-sided):                  0.00   Kurtosis:                         9.05\n",
       "===================================================================================\n",
       "\n",
       "Warnings:\n",
       "[1] Covariance matrix calculated using the outer product of gradients (complex-step).\n",
       "\"\"\""
      ]
     },
     "execution_count": 13,
     "metadata": {},
     "output_type": "execute_result"
    }
   ],
   "source": [
    "model_ret_ma_2 = ARIMA(df.returns[1:],order=(0,0,2))\n",
    "results_ret_ma_2 = model_ret_ma_2.fit()\n",
    "results_ret_ma_2.summary()"
   ]
  },
  {
   "cell_type": "code",
   "execution_count": 14,
   "id": "2c09e25a",
   "metadata": {},
   "outputs": [
    {
     "data": {
      "text/plain": [
       "0.0"
      ]
     },
     "execution_count": 14,
     "metadata": {},
     "output_type": "execute_result"
    }
   ],
   "source": [
    "LLR_test(model_ret_ma_1,model_ret_ma_2)"
   ]
  },
  {
   "cell_type": "code",
   "execution_count": 18,
   "id": "9f51db5e",
   "metadata": {},
   "outputs": [
    {
     "name": "stdout",
     "output_type": "stream",
     "text": [
      "                               SARIMAX Results                                \n",
      "==============================================================================\n",
      "Dep. Variable:                returns   No. Observations:                 5020\n",
      "Model:                 ARIMA(0, 0, 3)   Log Likelihood               -7904.317\n",
      "Date:                Sun, 21 Nov 2021   AIC                          15818.634\n",
      "Time:                        15:54:49   BIC                          15851.240\n",
      "Sample:                    01-10-1994   HQIC                         15830.060\n",
      "                         - 04-05-2013                                         \n",
      "Covariance Type:                  opg                                         \n",
      "==============================================================================\n",
      "                 coef    std err          z      P>|z|      [0.025      0.975]\n",
      "------------------------------------------------------------------------------\n",
      "const          0.0189      0.015      1.296      0.195      -0.010       0.048\n",
      "ma.L1         -0.0203      0.009     -2.334      0.020      -0.037      -0.003\n",
      "ma.L2         -0.0556      0.008     -7.032      0.000      -0.071      -0.040\n",
      "ma.L3         -0.0904      0.008    -11.594      0.000      -0.106      -0.075\n",
      "sigma2         1.3651      0.014     95.367      0.000       1.337       1.393\n",
      "===================================================================================\n",
      "Ljung-Box (L1) (Q):                   0.10   Jarque-Bera (JB):              6843.07\n",
      "Prob(Q):                              0.76   Prob(JB):                         0.00\n",
      "Heteroskedasticity (H):               2.03   Skew:                            -0.18\n",
      "Prob(H) (two-sided):                  0.00   Kurtosis:                         8.71\n",
      "===================================================================================\n",
      "\n",
      "Warnings:\n",
      "[1] Covariance matrix calculated using the outer product of gradients (complex-step).\n",
      "LLR Test p-value = 0.0\n"
     ]
    }
   ],
   "source": [
    "model_ret_ma_3 = ARIMA(df.returns[1:],order=(0,0,3))\n",
    "results_ret_ma_3 = model_ret_ma_3.fit()\n",
    "print(results_ret_ma_3.summary())\n",
    "print(\"LLR Test p-value = \" + str(LLR_test(model_ret_ma_2,model_ret_ma_3)))"
   ]
  },
  {
   "cell_type": "code",
   "execution_count": 20,
   "id": "8c2b7c63",
   "metadata": {},
   "outputs": [
    {
     "name": "stdout",
     "output_type": "stream",
     "text": [
      "                               SARIMAX Results                                \n",
      "==============================================================================\n",
      "Dep. Variable:                returns   No. Observations:                 5020\n",
      "Model:                 ARIMA(0, 0, 4)   Log Likelihood               -7898.773\n",
      "Date:                Sun, 21 Nov 2021   AIC                          15809.547\n",
      "Time:                        15:56:04   BIC                          15848.674\n",
      "Sample:                    01-10-1994   HQIC                         15823.257\n",
      "                         - 04-05-2013                                         \n",
      "Covariance Type:                  opg                                         \n",
      "==============================================================================\n",
      "                 coef    std err          z      P>|z|      [0.025      0.975]\n",
      "------------------------------------------------------------------------------\n",
      "const          0.0189      0.015      1.236      0.217      -0.011       0.049\n",
      "ma.L1         -0.0203      0.009     -2.239      0.025      -0.038      -0.003\n",
      "ma.L2         -0.0551      0.008     -6.835      0.000      -0.071      -0.039\n",
      "ma.L3         -0.0922      0.008    -11.569      0.000      -0.108      -0.077\n",
      "ma.L4          0.0454      0.009      5.274      0.000       0.029       0.062\n",
      "sigma2         1.3621      0.015     92.053      0.000       1.333       1.391\n",
      "===================================================================================\n",
      "Ljung-Box (L1) (Q):                   0.02   Jarque-Bera (JB):              6477.07\n",
      "Prob(Q):                              0.88   Prob(JB):                         0.00\n",
      "Heteroskedasticity (H):               2.00   Skew:                            -0.14\n",
      "Prob(H) (two-sided):                  0.00   Kurtosis:                         8.56\n",
      "===================================================================================\n",
      "\n",
      "Warnings:\n",
      "[1] Covariance matrix calculated using the outer product of gradients (complex-step).\n",
      "LLR Test p-value = 0.001\n"
     ]
    }
   ],
   "source": [
    "model_ret_ma_4 = ARIMA(df.returns[1:],order=(0,0,4))\n",
    "results_ret_ma_4 = model_ret_ma_4.fit()\n",
    "print(results_ret_ma_4.summary())\n",
    "print(\"LLR Test p-value = \" + str(LLR_test(model_ret_ma_3,model_ret_ma_4)))"
   ]
  },
  {
   "cell_type": "code",
   "execution_count": 21,
   "id": "720e9d41",
   "metadata": {},
   "outputs": [
    {
     "name": "stdout",
     "output_type": "stream",
     "text": [
      "                               SARIMAX Results                                \n",
      "==============================================================================\n",
      "Dep. Variable:                returns   No. Observations:                 5020\n",
      "Model:                 ARIMA(0, 0, 5)   Log Likelihood               -7892.823\n",
      "Date:                Sun, 21 Nov 2021   AIC                          15799.645\n",
      "Time:                        15:56:55   BIC                          15845.294\n",
      "Sample:                    01-10-1994   HQIC                         15815.641\n",
      "                         - 04-05-2013                                         \n",
      "Covariance Type:                  opg                                         \n",
      "==============================================================================\n",
      "                 coef    std err          z      P>|z|      [0.025      0.975]\n",
      "------------------------------------------------------------------------------\n",
      "const          0.0189      0.015      1.282      0.200      -0.010       0.048\n",
      "ma.L1         -0.0262      0.009     -2.839      0.005      -0.044      -0.008\n",
      "ma.L2         -0.0497      0.008     -6.147      0.000      -0.066      -0.034\n",
      "ma.L3         -0.0852      0.008    -10.525      0.000      -0.101      -0.069\n",
      "ma.L4          0.0458      0.009      5.312      0.000       0.029       0.063\n",
      "ma.L5         -0.0500      0.008     -6.250      0.000      -0.066      -0.034\n",
      "sigma2         1.3589      0.015     91.851      0.000       1.330       1.388\n",
      "===================================================================================\n",
      "Ljung-Box (L1) (Q):                   0.02   Jarque-Bera (JB):              6383.74\n",
      "Prob(Q):                              0.90   Prob(JB):                         0.00\n",
      "Heteroskedasticity (H):               2.00   Skew:                            -0.18\n",
      "Prob(H) (two-sided):                  0.00   Kurtosis:                         8.51\n",
      "===================================================================================\n",
      "\n",
      "Warnings:\n",
      "[1] Covariance matrix calculated using the outer product of gradients (complex-step).\n",
      "LLR Test p-value = 0.001\n"
     ]
    }
   ],
   "source": [
    "model_ret_ma_5 = ARIMA(df.returns[1:],order=(0,0,5))\n",
    "results_ret_ma_5 = model_ret_ma_5.fit()\n",
    "print(results_ret_ma_5.summary())\n",
    "print(\"LLR Test p-value = \" + str(LLR_test(model_ret_ma_4,model_ret_ma_5)))"
   ]
  },
  {
   "cell_type": "code",
   "execution_count": 22,
   "id": "e34368c2",
   "metadata": {},
   "outputs": [
    {
     "name": "stdout",
     "output_type": "stream",
     "text": [
      "                               SARIMAX Results                                \n",
      "==============================================================================\n",
      "Dep. Variable:                returns   No. Observations:                 5020\n",
      "Model:                 ARIMA(0, 0, 6)   Log Likelihood               -7889.221\n",
      "Date:                Sun, 21 Nov 2021   AIC                          15794.442\n",
      "Time:                        15:58:08   BIC                          15846.612\n",
      "Sample:                    01-10-1994   HQIC                         15812.723\n",
      "                         - 04-05-2013                                         \n",
      "Covariance Type:                  opg                                         \n",
      "==============================================================================\n",
      "                 coef    std err          z      P>|z|      [0.025      0.975]\n",
      "------------------------------------------------------------------------------\n",
      "const          0.0189      0.014      1.318      0.188      -0.009       0.047\n",
      "ma.L1         -0.0237      0.009     -2.562      0.010      -0.042      -0.006\n",
      "ma.L2         -0.0486      0.008     -5.982      0.000      -0.064      -0.033\n",
      "ma.L3         -0.0827      0.008    -10.179      0.000      -0.099      -0.067\n",
      "ma.L4          0.0466      0.009      5.386      0.000       0.030       0.064\n",
      "ma.L5         -0.0484      0.008     -5.991      0.000      -0.064      -0.033\n",
      "ma.L6         -0.0387      0.009     -4.318      0.000      -0.056      -0.021\n",
      "sigma2         1.3569      0.015     92.179      0.000       1.328       1.386\n",
      "===================================================================================\n",
      "Ljung-Box (L1) (Q):                   0.00   Jarque-Bera (JB):              6533.78\n",
      "Prob(Q):                              0.98   Prob(JB):                         0.00\n",
      "Heteroskedasticity (H):               2.00   Skew:                            -0.20\n",
      "Prob(H) (two-sided):                  0.00   Kurtosis:                         8.58\n",
      "===================================================================================\n",
      "\n",
      "Warnings:\n",
      "[1] Covariance matrix calculated using the outer product of gradients (complex-step).\n",
      "LLR Test p-value = 0.007\n"
     ]
    }
   ],
   "source": [
    "model_ret_ma_6 = ARIMA(df.returns[1:],order=(0,0,6))\n",
    "results_ret_ma_6 = model_ret_ma_6.fit()\n",
    "print(results_ret_ma_6.summary())\n",
    "print(\"LLR Test p-value = \" + str(LLR_test(model_ret_ma_5,model_ret_ma_6)))"
   ]
  },
  {
   "cell_type": "code",
   "execution_count": 23,
   "id": "2a9bb26d",
   "metadata": {},
   "outputs": [
    {
     "name": "stdout",
     "output_type": "stream",
     "text": [
      "                               SARIMAX Results                                \n",
      "==============================================================================\n",
      "Dep. Variable:                returns   No. Observations:                 5020\n",
      "Model:                 ARIMA(0, 0, 7)   Log Likelihood               -7889.046\n",
      "Date:                Sun, 21 Nov 2021   AIC                          15796.091\n",
      "Time:                        15:59:11   BIC                          15854.782\n",
      "Sample:                    01-10-1994   HQIC                         15816.657\n",
      "                         - 04-05-2013                                         \n",
      "Covariance Type:                  opg                                         \n",
      "==============================================================================\n",
      "                 coef    std err          z      P>|z|      [0.025      0.975]\n",
      "------------------------------------------------------------------------------\n",
      "const          0.0189      0.015      1.303      0.193      -0.010       0.047\n",
      "ma.L1         -0.0247      0.009     -2.645      0.008      -0.043      -0.006\n",
      "ma.L2         -0.0488      0.008     -6.000      0.000      -0.065      -0.033\n",
      "ma.L3         -0.0821      0.008     -9.988      0.000      -0.098      -0.066\n",
      "ma.L4          0.0458      0.009      5.292      0.000       0.029       0.063\n",
      "ma.L5         -0.0486      0.008     -5.989      0.000      -0.064      -0.033\n",
      "ma.L6         -0.0390      0.009     -4.314      0.000      -0.057      -0.021\n",
      "ma.L7          0.0085      0.009      0.947      0.343      -0.009       0.026\n",
      "sigma2         1.3568      0.015     91.390      0.000       1.328       1.386\n",
      "===================================================================================\n",
      "Ljung-Box (L1) (Q):                   0.00   Jarque-Bera (JB):              6506.02\n",
      "Prob(Q):                              0.98   Prob(JB):                         0.00\n",
      "Heteroskedasticity (H):               2.00   Skew:                            -0.19\n",
      "Prob(H) (two-sided):                  0.00   Kurtosis:                         8.56\n",
      "===================================================================================\n",
      "\n",
      "Warnings:\n",
      "[1] Covariance matrix calculated using the outer product of gradients (complex-step).\n",
      "LLR Test p-value = 0.554\n"
     ]
    }
   ],
   "source": [
    "model_ret_ma_7 = ARIMA(df.returns[1:],order=(0,0,7))\n",
    "results_ret_ma_7 = model_ret_ma_7.fit()\n",
    "print(results_ret_ma_7.summary())\n",
    "print(\"LLR Test p-value = \" + str(LLR_test(model_ret_ma_6,model_ret_ma_7)))"
   ]
  },
  {
   "cell_type": "code",
   "execution_count": 24,
   "id": "4cfe04de",
   "metadata": {},
   "outputs": [
    {
     "name": "stdout",
     "output_type": "stream",
     "text": [
      "                               SARIMAX Results                                \n",
      "==============================================================================\n",
      "Dep. Variable:                returns   No. Observations:                 5020\n",
      "Model:                 ARIMA(0, 0, 8)   Log Likelihood               -7885.603\n",
      "Date:                Sun, 21 Nov 2021   AIC                          15791.205\n",
      "Time:                        16:00:54   BIC                          15856.417\n",
      "Sample:                    01-10-1994   HQIC                         15814.056\n",
      "                         - 04-05-2013                                         \n",
      "Covariance Type:                  opg                                         \n",
      "==============================================================================\n",
      "                 coef    std err          z      P>|z|      [0.025      0.975]\n",
      "------------------------------------------------------------------------------\n",
      "const          0.0189      0.015      1.253      0.210      -0.011       0.048\n",
      "ma.L1         -0.0238      0.009     -2.527      0.011      -0.042      -0.005\n",
      "ma.L2         -0.0495      0.008     -6.053      0.000      -0.066      -0.033\n",
      "ma.L3         -0.0847      0.008    -10.308      0.000      -0.101      -0.069\n",
      "ma.L4          0.0488      0.009      5.615      0.000       0.032       0.066\n",
      "ma.L5         -0.0518      0.008     -6.304      0.000      -0.068      -0.036\n",
      "ma.L6         -0.0402      0.009     -4.411      0.000      -0.058      -0.022\n",
      "ma.L7          0.0083      0.009      0.938      0.348      -0.009       0.026\n",
      "ma.L8          0.0365      0.009      3.881      0.000       0.018       0.055\n",
      "sigma2         1.3550      0.015     91.305      0.000       1.326       1.384\n",
      "===================================================================================\n",
      "Ljung-Box (L1) (Q):                   0.00   Jarque-Bera (JB):              6440.47\n",
      "Prob(Q):                              0.99   Prob(JB):                         0.00\n",
      "Heteroskedasticity (H):               2.00   Skew:                            -0.18\n",
      "Prob(H) (two-sided):                  0.00   Kurtosis:                         8.54\n",
      "===================================================================================\n",
      "\n",
      "Warnings:\n",
      "[1] Covariance matrix calculated using the outer product of gradients (complex-step).\n",
      "LLR Test p-value = 0.009\n"
     ]
    }
   ],
   "source": [
    "model_ret_ma_8 = ARIMA(df.returns[1:],order=(0,0,8))\n",
    "results_ret_ma_8 = model_ret_ma_8.fit()\n",
    "print(results_ret_ma_8.summary())\n",
    "print(\"LLR Test p-value = \" + str(LLR_test(model_ret_ma_7,model_ret_ma_8)))"
   ]
  },
  {
   "cell_type": "code",
   "execution_count": 26,
   "id": "a8c4ccfc",
   "metadata": {},
   "outputs": [
    {
     "data": {
      "text/plain": [
       "0.027"
      ]
     },
     "execution_count": 26,
     "metadata": {},
     "output_type": "execute_result"
    }
   ],
   "source": [
    "LLR_test(model_ret_ma_6,model_ret_ma_8,DF=2)"
   ]
  },
  {
   "cell_type": "markdown",
   "id": "bf1ba7dd",
   "metadata": {},
   "source": [
    "### Results of the Models.\n",
    "\n",
    "Our conditions fail at MA(7). ie. with LLR p value of 0.554, MA(7) is not better than MA(6), but the ACF graph tells us that while LAG 7 is insignificant, LAG 8 is not. So, we break our rule to check for MA(8), and as expected, we find that MA(8) is not only better than MA(7), it is also better than MA(6). \n",
    "\n",
    "Models with lags greater than MA(8) are unlikely to be better as we don't observe significant auttocorrelations for LAGS > 8, in the ACF plot.\n",
    "\n",
    "Also, note that in the L8 model, coefficients except L1 and L7 are significant, same as suggested by the ACF plot.\n"
   ]
  },
  {
   "cell_type": "code",
   "execution_count": null,
   "id": "e06137d5",
   "metadata": {},
   "outputs": [],
   "source": []
  }
 ],
 "metadata": {
  "kernelspec": {
   "display_name": "Python 3 (ipykernel)",
   "language": "python",
   "name": "python3"
  },
  "language_info": {
   "codemirror_mode": {
    "name": "ipython",
    "version": 3
   },
   "file_extension": ".py",
   "mimetype": "text/x-python",
   "name": "python",
   "nbconvert_exporter": "python",
   "pygments_lexer": "ipython3",
   "version": "3.9.1"
  }
 },
 "nbformat": 4,
 "nbformat_minor": 5
}
