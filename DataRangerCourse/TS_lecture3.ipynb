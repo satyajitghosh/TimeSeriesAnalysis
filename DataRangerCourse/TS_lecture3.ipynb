{
 "cells": [
  {
   "cell_type": "markdown",
   "id": "bf0898d0",
   "metadata": {},
   "source": [
    "### Selecting the miost appropriate Time Series Model.\n",
    "\n",
    "* We start with the most simple models and gradually move to more complex models.\n",
    "\n",
    "* As we try more complex models with more number of predictors, the coeefficients on the new predictors in the complex model should be significantly different from zero. Only then we benefit from moving to the more complex model. If the coefficients for the new predictors are close to zero, it implies that these predictors do not have good predictive power, and we should probably move back to the simpler model.\n",
    "\n",
    "* We prefer simpler models, unless the more complex model makes significantly better predictions. To test if the predictions are significantly better we have the Log-Likelihood Ratio(LLR) test (used for models with different degrees of freedom).\n",
    "\n",
    "* For comparing models with the same number of required lags we can't use LLR, so we compare the information criteria for each one. Lower the coefficients, less is the data required to make accurate predictions. Lower AIC,BIC preferable. \n",
    "\n",
    "* If our model fits well, there should be no trend that we have failed to account for and hence our residuals should resemble white noise. This ensure that there is no other trend left unaccounted for and we cant make our model better without overfitting it."
   ]
  },
  {
   "cell_type": "markdown",
   "id": "50ffb2be",
   "metadata": {},
   "source": [
    "### Auto Regressive(AR) Model\n",
    "\n",
    "A linear model where current period values are a sum of past outcomes multiplied by a numeric factor.\n",
    "\n",
    "An AR(1) model only uses the value of the immediately preceding period as the predictor.\n",
    "\n",
    "$x_{t} = C + \\phi x_{t-1} + \\epsilon_{t},  |\\phi| <= 1$\n",
    "\n",
    "If $|\\phi| > 1$, then at some point the series will blow up.\n",
    "\n",
    "Question arises - How many lagged predictors should we use? We start with a simple model and gradually increase the number of predictors and see what happens to the coefficients. If the coefficients are not significantly different from zero, then the ew predictors are not useful. We also check if the more complicated model is doing a better job at predicting?"
   ]
  },
  {
   "cell_type": "code",
   "execution_count": 54,
   "id": "1d21760a",
   "metadata": {},
   "outputs": [],
   "source": [
    "import pandas as pd\n",
    "import numpy as np\n",
    "import matplotlib.pyplot as plt\n",
    "import statsmodels.graphics.tsaplots as sgt\n",
    "from statsmodels.tsa.arima.model import ARIMA\n",
    "import statsmodels.tsa.stattools as sts\n",
    "from statsmodels.tsa.seasonal import seasonal_decompose\n",
    "from scipy.stats.distributions import chi2\n",
    "import seaborn as sns\n",
    "sns.set()"
   ]
  },
  {
   "cell_type": "code",
   "execution_count": 19,
   "id": "d8da9112",
   "metadata": {},
   "outputs": [],
   "source": [
    "raw_csv_data = pd.read_csv(\"data/Index2018.csv\")\n",
    "df_comp = raw_csv_data.copy()\n",
    "df_comp.date = pd.to_datetime(df_comp.date, format = \"%d/%m/%Y\")\n",
    "df_comp.set_index(\"date\",inplace = True)\n",
    "df_comp = df_comp.asfreq('b')\n",
    "df_comp = df_comp.fillna(method='ffill')\n",
    "df_comp['market_value'] = df_comp.ftse\n",
    "del df_comp['spx'],df_comp['dax'],df_comp['ftse'],df_comp['nikkei']\n",
    "size = int(len(df_comp) * 0.8)\n",
    "df,df_test = df_comp.iloc[:size],df_comp.iloc[size:]"
   ]
  },
  {
   "cell_type": "markdown",
   "id": "a86aa312",
   "metadata": {},
   "source": [
    "### ACF"
   ]
  },
  {
   "cell_type": "code",
   "execution_count": 20,
   "id": "08cd24bb",
   "metadata": {
    "scrolled": true
   },
   "outputs": [
    {
     "data": {
      "image/png": "[encoded data removed]",
      "text/plain": [
       "<Figure size 432x288 with 1 Axes>"
      ]
     },
     "metadata": {},
     "output_type": "display_data"
    }
   ],
   "source": [
    "sgt.plot_acf(df.market_value,zero = False,lags = 40)\n",
    "plt.title('ACF for Prices',size=20)\n",
    "plt.show()"
   ]
  },
  {
   "cell_type": "markdown",
   "id": "4d1e5340",
   "metadata": {},
   "source": [
    "### PACF"
   ]
  },
  {
   "cell_type": "code",
   "execution_count": 21,
   "id": "406df2e2",
   "metadata": {},
   "outputs": [
    {
     "data": {
      "image/png": "[encoded data removed]",
      "text/plain": [
       "<Figure size 432x288 with 1 Axes>"
      ]
     },
     "metadata": {},
     "output_type": "display_data"
    }
   ],
   "source": [
    "sgt.plot_pacf(df.market_value,zero = False,lags = 40,alpha = 0.05,method = ('ols'))\n",
    "plt.title('PCF for Prices',size=20)\n",
    "plt.ylim(-0.25,0.25)\n",
    "plt.show()"
   ]
  },
  {
   "cell_type": "markdown",
   "id": "b6a94452",
   "metadata": {},
   "source": [
    "We observe that the values for the later lags are quite insignificant, so we can ignore them."
   ]
  },
  {
   "cell_type": "markdown",
   "id": "666b4cf7",
   "metadata": {},
   "source": [
    "### The AR(1) model"
   ]
  },
  {
   "cell_type": "code",
   "execution_count": 30,
   "id": "f24d099c",
   "metadata": {},
   "outputs": [
    {
     "data": {
      "text/html": [
       "<table class=\"simpletable\">\n",
       "<caption>SARIMAX Results</caption>\n",
       "<tr>\n",
       "  <th>Dep. Variable:</th>     <td>market_value</td>   <th>  No. Observations:  </th>    <td>5021</td>   \n",
       "</tr>\n",
       "<tr>\n",
       "  <th>Model:</th>            <td>ARIMA(1, 0, 0)</td>  <th>  Log Likelihood     </th> <td>-27622.604</td>\n",
       "</tr>\n",
       "<tr>\n",
       "  <th>Date:</th>            <td>Sat, 20 Nov 2021</td> <th>  AIC                </th>  <td>55251.207</td>\n",
       "</tr>\n",
       "<tr>\n",
       "  <th>Time:</th>                <td>16:37:29</td>     <th>  BIC                </th>  <td>55270.772</td>\n",
       "</tr>\n",
       "<tr>\n",
       "  <th>Sample:</th>             <td>01-07-1994</td>    <th>  HQIC               </th>  <td>55258.063</td>\n",
       "</tr>\n",
       "<tr>\n",
       "  <th></th>                   <td>- 04-05-2013</td>   <th>                     </th>      <td> </td>    \n",
       "</tr>\n",
       "<tr>\n",
       "  <th>Covariance Type:</th>        <td>opg</td>       <th>                     </th>      <td> </td>    \n",
       "</tr>\n",
       "</table>\n",
       "<table class=\"simpletable\">\n",
       "<tr>\n",
       "     <td></td>       <th>coef</th>     <th>std err</th>      <th>z</th>      <th>P>|z|</th>  <th>[0.025</th>    <th>0.975]</th>  \n",
       "</tr>\n",
       "<tr>\n",
       "  <th>const</th>  <td> 5089.6374</td> <td>  423.329</td> <td>   12.023</td> <td> 0.000</td> <td> 4259.929</td> <td> 5919.346</td>\n",
       "</tr>\n",
       "<tr>\n",
       "  <th>ar.L1</th>  <td>    0.9984</td> <td>    0.001</td> <td> 1147.578</td> <td> 0.000</td> <td>    0.997</td> <td>    1.000</td>\n",
       "</tr>\n",
       "<tr>\n",
       "  <th>sigma2</th> <td> 3511.3842</td> <td>   40.874</td> <td>   85.907</td> <td> 0.000</td> <td> 3431.272</td> <td> 3591.496</td>\n",
       "</tr>\n",
       "</table>\n",
       "<table class=\"simpletable\">\n",
       "<tr>\n",
       "  <th>Ljung-Box (L1) (Q):</th>     <td>1.51</td> <th>  Jarque-Bera (JB):  </th> <td>3313.33</td>\n",
       "</tr>\n",
       "<tr>\n",
       "  <th>Prob(Q):</th>                <td>0.22</td> <th>  Prob(JB):          </th>  <td>0.00</td>  \n",
       "</tr>\n",
       "<tr>\n",
       "  <th>Heteroskedasticity (H):</th> <td>1.90</td> <th>  Skew:              </th>  <td>-0.18</td> \n",
       "</tr>\n",
       "<tr>\n",
       "  <th>Prob(H) (two-sided):</th>    <td>0.00</td> <th>  Kurtosis:          </th>  <td>6.96</td>  \n",
       "</tr>\n",
       "</table><br/><br/>Warnings:<br/>[1] Covariance matrix calculated using the outer product of gradients (complex-step)."
      ],
      "text/plain": [
       "<class 'statsmodels.iolib.summary.Summary'>\n",
       "\"\"\"\n",
       "                               SARIMAX Results                                \n",
       "==============================================================================\n",
       "Dep. Variable:           market_value   No. Observations:                 5021\n",
       "Model:                 ARIMA(1, 0, 0)   Log Likelihood              -27622.604\n",
       "Date:                Sat, 20 Nov 2021   AIC                          55251.207\n",
       "Time:                        16:37:29   BIC                          55270.772\n",
       "Sample:                    01-07-1994   HQIC                         55258.063\n",
       "                         - 04-05-2013                                         \n",
       "Covariance Type:                  opg                                         \n",
       "==============================================================================\n",
       "                 coef    std err          z      P>|z|      [0.025      0.975]\n",
       "------------------------------------------------------------------------------\n",
       "const       5089.6374    423.329     12.023      0.000    4259.929    5919.346\n",
       "ar.L1          0.9984      0.001   1147.578      0.000       0.997       1.000\n",
       "sigma2      3511.3842     40.874     85.907      0.000    3431.272    3591.496\n",
       "===================================================================================\n",
       "Ljung-Box (L1) (Q):                   1.51   Jarque-Bera (JB):              3313.33\n",
       "Prob(Q):                              0.22   Prob(JB):                         0.00\n",
       "Heteroskedasticity (H):               1.90   Skew:                            -0.18\n",
       "Prob(H) (two-sided):                  0.00   Kurtosis:                         6.96\n",
       "===================================================================================\n",
       "\n",
       "Warnings:\n",
       "[1] Covariance matrix calculated using the outer product of gradients (complex-step).\n",
       "\"\"\""
      ]
     },
     "execution_count": 30,
     "metadata": {},
     "output_type": "execute_result"
    }
   ],
   "source": [
    "model_ar = ARIMA(df.market_value,order = (1,0,0))\n",
    "results_ar = model_ar.fit()\n",
    "results_ar.summary()"
   ]
  },
  {
   "cell_type": "markdown",
   "id": "35e4b9b3",
   "metadata": {},
   "source": [
    "##### Interpreting Results \n",
    "\n",
    "* Coef is the coefficients that the model estimates. First is C and the second is $\\phi1$.\n",
    "* Both the estimates have high t-stats and low p values, indicating that the numvers are significantly different from 0.\n",
    "* It also provides the estiamted distribution of C and $\\phi1$. Note that both the distributions do not include 0 - another indication that the estimates are siginificantly non-zero."
   ]
  },
  {
   "cell_type": "markdown",
   "id": "b626af34",
   "metadata": {},
   "source": [
    "### Higher Lag AR Models"
   ]
  },
  {
   "cell_type": "code",
   "execution_count": 46,
   "id": "4ae94567",
   "metadata": {},
   "outputs": [
    {
     "data": {
      "text/html": [
       "<table class=\"simpletable\">\n",
       "<caption>SARIMAX Results</caption>\n",
       "<tr>\n",
       "  <th>Dep. Variable:</th>     <td>market_value</td>   <th>  No. Observations:  </th>    <td>5021</td>   \n",
       "</tr>\n",
       "<tr>\n",
       "  <th>Model:</th>            <td>ARIMA(2, 0, 0)</td>  <th>  Log Likelihood     </th> <td>-27621.949</td>\n",
       "</tr>\n",
       "<tr>\n",
       "  <th>Date:</th>            <td>Sat, 20 Nov 2021</td> <th>  AIC                </th>  <td>55251.898</td>\n",
       "</tr>\n",
       "<tr>\n",
       "  <th>Time:</th>                <td>17:30:27</td>     <th>  BIC                </th>  <td>55277.984</td>\n",
       "</tr>\n",
       "<tr>\n",
       "  <th>Sample:</th>             <td>01-07-1994</td>    <th>  HQIC               </th>  <td>55261.039</td>\n",
       "</tr>\n",
       "<tr>\n",
       "  <th></th>                   <td>- 04-05-2013</td>   <th>                     </th>      <td> </td>    \n",
       "</tr>\n",
       "<tr>\n",
       "  <th>Covariance Type:</th>        <td>opg</td>       <th>                     </th>      <td> </td>    \n",
       "</tr>\n",
       "</table>\n",
       "<table class=\"simpletable\">\n",
       "<tr>\n",
       "     <td></td>       <th>coef</th>     <th>std err</th>      <th>z</th>      <th>P>|z|</th>  <th>[0.025</th>    <th>0.975]</th>  \n",
       "</tr>\n",
       "<tr>\n",
       "  <th>const</th>  <td> 5089.6409</td> <td>  368.251</td> <td>   13.821</td> <td> 0.000</td> <td> 4367.881</td> <td> 5811.400</td>\n",
       "</tr>\n",
       "<tr>\n",
       "  <th>ar.L1</th>  <td>    0.9811</td> <td>    0.010</td> <td>   99.868</td> <td> 0.000</td> <td>    0.962</td> <td>    1.000</td>\n",
       "</tr>\n",
       "<tr>\n",
       "  <th>ar.L2</th>  <td>    0.0171</td> <td>    0.010</td> <td>    1.749</td> <td> 0.080</td> <td>   -0.002</td> <td>    0.036</td>\n",
       "</tr>\n",
       "<tr>\n",
       "  <th>sigma2</th> <td> 3510.1277</td> <td>   41.037</td> <td>   85.535</td> <td> 0.000</td> <td> 3429.696</td> <td> 3590.560</td>\n",
       "</tr>\n",
       "</table>\n",
       "<table class=\"simpletable\">\n",
       "<tr>\n",
       "  <th>Ljung-Box (L1) (Q):</th>     <td>0.00</td> <th>  Jarque-Bera (JB):  </th> <td>3282.81</td>\n",
       "</tr>\n",
       "<tr>\n",
       "  <th>Prob(Q):</th>                <td>0.95</td> <th>  Prob(JB):          </th>  <td>0.00</td>  \n",
       "</tr>\n",
       "<tr>\n",
       "  <th>Heteroskedasticity (H):</th> <td>1.89</td> <th>  Skew:              </th>  <td>-0.19</td> \n",
       "</tr>\n",
       "<tr>\n",
       "  <th>Prob(H) (two-sided):</th>    <td>0.00</td> <th>  Kurtosis:          </th>  <td>6.94</td>  \n",
       "</tr>\n",
       "</table><br/><br/>Warnings:<br/>[1] Covariance matrix calculated using the outer product of gradients (complex-step)."
      ],
      "text/plain": [
       "<class 'statsmodels.iolib.summary.Summary'>\n",
       "\"\"\"\n",
       "                               SARIMAX Results                                \n",
       "==============================================================================\n",
       "Dep. Variable:           market_value   No. Observations:                 5021\n",
       "Model:                 ARIMA(2, 0, 0)   Log Likelihood              -27621.949\n",
       "Date:                Sat, 20 Nov 2021   AIC                          55251.898\n",
       "Time:                        17:30:27   BIC                          55277.984\n",
       "Sample:                    01-07-1994   HQIC                         55261.039\n",
       "                         - 04-05-2013                                         \n",
       "Covariance Type:                  opg                                         \n",
       "==============================================================================\n",
       "                 coef    std err          z      P>|z|      [0.025      0.975]\n",
       "------------------------------------------------------------------------------\n",
       "const       5089.6409    368.251     13.821      0.000    4367.881    5811.400\n",
       "ar.L1          0.9811      0.010     99.868      0.000       0.962       1.000\n",
       "ar.L2          0.0171      0.010      1.749      0.080      -0.002       0.036\n",
       "sigma2      3510.1277     41.037     85.535      0.000    3429.696    3590.560\n",
       "===================================================================================\n",
       "Ljung-Box (L1) (Q):                   0.00   Jarque-Bera (JB):              3282.81\n",
       "Prob(Q):                              0.95   Prob(JB):                         0.00\n",
       "Heteroskedasticity (H):               1.89   Skew:                            -0.19\n",
       "Prob(H) (two-sided):                  0.00   Kurtosis:                         6.94\n",
       "===================================================================================\n",
       "\n",
       "Warnings:\n",
       "[1] Covariance matrix calculated using the outer product of gradients (complex-step).\n",
       "\"\"\""
      ]
     },
     "execution_count": 46,
     "metadata": {},
     "output_type": "execute_result"
    }
   ],
   "source": [
    "model_ar_2 = ARIMA(df.market_value,order = (2,0,0))\n",
    "results_ar_2 = model_ar_2.fit()\n",
    "results_ar_2.summary()"
   ]
  },
  {
   "cell_type": "markdown",
   "id": "ac7c9efd",
   "metadata": {},
   "source": [
    "In the AR(2) model above, note that the p value is higher for the L2 value, indicating that the value is not significantly different from 0.\n",
    "The distribution also contains 0."
   ]
  },
  {
   "cell_type": "code",
   "execution_count": 41,
   "id": "2f3973ce",
   "metadata": {},
   "outputs": [
    {
     "data": {
      "text/html": [
       "<table class=\"simpletable\">\n",
       "<caption>SARIMAX Results</caption>\n",
       "<tr>\n",
       "  <th>Dep. Variable:</th>     <td>market_value</td>   <th>  No. Observations:  </th>    <td>5021</td>   \n",
       "</tr>\n",
       "<tr>\n",
       "  <th>Model:</th>            <td>ARIMA(3, 0, 0)</td>  <th>  Log Likelihood     </th> <td>-27615.962</td>\n",
       "</tr>\n",
       "<tr>\n",
       "  <th>Date:</th>            <td>Sat, 20 Nov 2021</td> <th>  AIC                </th>  <td>55241.925</td>\n",
       "</tr>\n",
       "<tr>\n",
       "  <th>Time:</th>                <td>16:45:52</td>     <th>  BIC                </th>  <td>55274.532</td>\n",
       "</tr>\n",
       "<tr>\n",
       "  <th>Sample:</th>             <td>01-07-1994</td>    <th>  HQIC               </th>  <td>55253.351</td>\n",
       "</tr>\n",
       "<tr>\n",
       "  <th></th>                   <td>- 04-05-2013</td>   <th>                     </th>      <td> </td>    \n",
       "</tr>\n",
       "<tr>\n",
       "  <th>Covariance Type:</th>        <td>opg</td>       <th>                     </th>      <td> </td>    \n",
       "</tr>\n",
       "</table>\n",
       "<table class=\"simpletable\">\n",
       "<tr>\n",
       "     <td></td>       <th>coef</th>     <th>std err</th>      <th>z</th>      <th>P>|z|</th>  <th>[0.025</th>    <th>0.975]</th>  \n",
       "</tr>\n",
       "<tr>\n",
       "  <th>const</th>  <td> 5089.6409</td> <td>  378.583</td> <td>   13.444</td> <td> 0.000</td> <td> 4347.631</td> <td> 5831.651</td>\n",
       "</tr>\n",
       "<tr>\n",
       "  <th>ar.L1</th>  <td>    0.9802</td> <td>    0.010</td> <td>   99.076</td> <td> 0.000</td> <td>    0.961</td> <td>    1.000</td>\n",
       "</tr>\n",
       "<tr>\n",
       "  <th>ar.L2</th>  <td>   -0.0309</td> <td>    0.013</td> <td>   -2.315</td> <td> 0.021</td> <td>   -0.057</td> <td>   -0.005</td>\n",
       "</tr>\n",
       "<tr>\n",
       "  <th>ar.L3</th>  <td>    0.0489</td> <td>    0.009</td> <td>    5.383</td> <td> 0.000</td> <td>    0.031</td> <td>    0.067</td>\n",
       "</tr>\n",
       "<tr>\n",
       "  <th>sigma2</th> <td> 3502.2643</td> <td>   41.020</td> <td>   85.379</td> <td> 0.000</td> <td> 3421.866</td> <td> 3582.662</td>\n",
       "</tr>\n",
       "</table>\n",
       "<table class=\"simpletable\">\n",
       "<tr>\n",
       "  <th>Ljung-Box (L1) (Q):</th>     <td>0.06</td> <th>  Jarque-Bera (JB):  </th> <td>3286.97</td>\n",
       "</tr>\n",
       "<tr>\n",
       "  <th>Prob(Q):</th>                <td>0.80</td> <th>  Prob(JB):          </th>  <td>0.00</td>  \n",
       "</tr>\n",
       "<tr>\n",
       "  <th>Heteroskedasticity (H):</th> <td>1.90</td> <th>  Skew:              </th>  <td>-0.22</td> \n",
       "</tr>\n",
       "<tr>\n",
       "  <th>Prob(H) (two-sided):</th>    <td>0.00</td> <th>  Kurtosis:          </th>  <td>6.94</td>  \n",
       "</tr>\n",
       "</table><br/><br/>Warnings:<br/>[1] Covariance matrix calculated using the outer product of gradients (complex-step)."
      ],
      "text/plain": [
       "<class 'statsmodels.iolib.summary.Summary'>\n",
       "\"\"\"\n",
       "                               SARIMAX Results                                \n",
       "==============================================================================\n",
       "Dep. Variable:           market_value   No. Observations:                 5021\n",
       "Model:                 ARIMA(3, 0, 0)   Log Likelihood              -27615.962\n",
       "Date:                Sat, 20 Nov 2021   AIC                          55241.925\n",
       "Time:                        16:45:52   BIC                          55274.532\n",
       "Sample:                    01-07-1994   HQIC                         55253.351\n",
       "                         - 04-05-2013                                         \n",
       "Covariance Type:                  opg                                         \n",
       "==============================================================================\n",
       "                 coef    std err          z      P>|z|      [0.025      0.975]\n",
       "------------------------------------------------------------------------------\n",
       "const       5089.6409    378.583     13.444      0.000    4347.631    5831.651\n",
       "ar.L1          0.9802      0.010     99.076      0.000       0.961       1.000\n",
       "ar.L2         -0.0309      0.013     -2.315      0.021      -0.057      -0.005\n",
       "ar.L3          0.0489      0.009      5.383      0.000       0.031       0.067\n",
       "sigma2      3502.2643     41.020     85.379      0.000    3421.866    3582.662\n",
       "===================================================================================\n",
       "Ljung-Box (L1) (Q):                   0.06   Jarque-Bera (JB):              3286.97\n",
       "Prob(Q):                              0.80   Prob(JB):                         0.00\n",
       "Heteroskedasticity (H):               1.90   Skew:                            -0.22\n",
       "Prob(H) (two-sided):                  0.00   Kurtosis:                         6.94\n",
       "===================================================================================\n",
       "\n",
       "Warnings:\n",
       "[1] Covariance matrix calculated using the outer product of gradients (complex-step).\n",
       "\"\"\""
      ]
     },
     "execution_count": 41,
     "metadata": {},
     "output_type": "execute_result"
    }
   ],
   "source": [
    "model_ar_3 = ARIMA(df.market_value,order = (3,0,0))\n",
    "results_ar_3 = model_ar_3.fit()\n",
    "results_ar_3.summary()"
   ]
  },
  {
   "cell_type": "code",
   "execution_count": 42,
   "id": "da2f6399",
   "metadata": {},
   "outputs": [
    {
     "data": {
      "text/html": [
       "<table class=\"simpletable\">\n",
       "<caption>SARIMAX Results</caption>\n",
       "<tr>\n",
       "  <th>Dep. Variable:</th>     <td>market_value</td>   <th>  No. Observations:  </th>    <td>5021</td>   \n",
       "</tr>\n",
       "<tr>\n",
       "  <th>Model:</th>            <td>ARIMA(4, 0, 0)</td>  <th>  Log Likelihood     </th> <td>-27602.680</td>\n",
       "</tr>\n",
       "<tr>\n",
       "  <th>Date:</th>            <td>Sat, 20 Nov 2021</td> <th>  AIC                </th>  <td>55217.359</td>\n",
       "</tr>\n",
       "<tr>\n",
       "  <th>Time:</th>                <td>16:48:20</td>     <th>  BIC                </th>  <td>55256.488</td>\n",
       "</tr>\n",
       "<tr>\n",
       "  <th>Sample:</th>             <td>01-07-1994</td>    <th>  HQIC               </th>  <td>55231.070</td>\n",
       "</tr>\n",
       "<tr>\n",
       "  <th></th>                   <td>- 04-05-2013</td>   <th>                     </th>      <td> </td>    \n",
       "</tr>\n",
       "<tr>\n",
       "  <th>Covariance Type:</th>        <td>opg</td>       <th>                     </th>      <td> </td>    \n",
       "</tr>\n",
       "</table>\n",
       "<table class=\"simpletable\">\n",
       "<tr>\n",
       "     <td></td>       <th>coef</th>     <th>std err</th>      <th>z</th>      <th>P>|z|</th>  <th>[0.025</th>    <th>0.975]</th>  \n",
       "</tr>\n",
       "<tr>\n",
       "  <th>const</th>  <td> 5089.6409</td> <td>  391.959</td> <td>   12.985</td> <td> 0.000</td> <td> 4321.415</td> <td> 5857.867</td>\n",
       "</tr>\n",
       "<tr>\n",
       "  <th>ar.L1</th>  <td>    0.9767</td> <td>    0.010</td> <td>   97.788</td> <td> 0.000</td> <td>    0.957</td> <td>    0.996</td>\n",
       "</tr>\n",
       "<tr>\n",
       "  <th>ar.L2</th>  <td>   -0.0287</td> <td>    0.013</td> <td>   -2.129</td> <td> 0.033</td> <td>   -0.055</td> <td>   -0.002</td>\n",
       "</tr>\n",
       "<tr>\n",
       "  <th>ar.L3</th>  <td>   -0.0224</td> <td>    0.013</td> <td>   -1.784</td> <td> 0.074</td> <td>   -0.047</td> <td>    0.002</td>\n",
       "</tr>\n",
       "<tr>\n",
       "  <th>ar.L4</th>  <td>    0.0728</td> <td>    0.009</td> <td>    8.033</td> <td> 0.000</td> <td>    0.055</td> <td>    0.091</td>\n",
       "</tr>\n",
       "<tr>\n",
       "  <th>sigma2</th> <td> 3484.0262</td> <td>   41.922</td> <td>   83.108</td> <td> 0.000</td> <td> 3401.861</td> <td> 3566.191</td>\n",
       "</tr>\n",
       "</table>\n",
       "<table class=\"simpletable\">\n",
       "<tr>\n",
       "  <th>Ljung-Box (L1) (Q):</th>     <td>0.02</td> <th>  Jarque-Bera (JB):  </th> <td>3044.18</td>\n",
       "</tr>\n",
       "<tr>\n",
       "  <th>Prob(Q):</th>                <td>0.88</td> <th>  Prob(JB):          </th>  <td>0.00</td>  \n",
       "</tr>\n",
       "<tr>\n",
       "  <th>Heteroskedasticity (H):</th> <td>1.90</td> <th>  Skew:              </th>  <td>-0.28</td> \n",
       "</tr>\n",
       "<tr>\n",
       "  <th>Prob(H) (two-sided):</th>    <td>0.00</td> <th>  Kurtosis:          </th>  <td>6.77</td>  \n",
       "</tr>\n",
       "</table><br/><br/>Warnings:<br/>[1] Covariance matrix calculated using the outer product of gradients (complex-step)."
      ],
      "text/plain": [
       "<class 'statsmodels.iolib.summary.Summary'>\n",
       "\"\"\"\n",
       "                               SARIMAX Results                                \n",
       "==============================================================================\n",
       "Dep. Variable:           market_value   No. Observations:                 5021\n",
       "Model:                 ARIMA(4, 0, 0)   Log Likelihood              -27602.680\n",
       "Date:                Sat, 20 Nov 2021   AIC                          55217.359\n",
       "Time:                        16:48:20   BIC                          55256.488\n",
       "Sample:                    01-07-1994   HQIC                         55231.070\n",
       "                         - 04-05-2013                                         \n",
       "Covariance Type:                  opg                                         \n",
       "==============================================================================\n",
       "                 coef    std err          z      P>|z|      [0.025      0.975]\n",
       "------------------------------------------------------------------------------\n",
       "const       5089.6409    391.959     12.985      0.000    4321.415    5857.867\n",
       "ar.L1          0.9767      0.010     97.788      0.000       0.957       0.996\n",
       "ar.L2         -0.0287      0.013     -2.129      0.033      -0.055      -0.002\n",
       "ar.L3         -0.0224      0.013     -1.784      0.074      -0.047       0.002\n",
       "ar.L4          0.0728      0.009      8.033      0.000       0.055       0.091\n",
       "sigma2      3484.0262     41.922     83.108      0.000    3401.861    3566.191\n",
       "===================================================================================\n",
       "Ljung-Box (L1) (Q):                   0.02   Jarque-Bera (JB):              3044.18\n",
       "Prob(Q):                              0.88   Prob(JB):                         0.00\n",
       "Heteroskedasticity (H):               1.90   Skew:                            -0.28\n",
       "Prob(H) (two-sided):                  0.00   Kurtosis:                         6.77\n",
       "===================================================================================\n",
       "\n",
       "Warnings:\n",
       "[1] Covariance matrix calculated using the outer product of gradients (complex-step).\n",
       "\"\"\""
      ]
     },
     "execution_count": 42,
     "metadata": {},
     "output_type": "execute_result"
    }
   ],
   "source": [
    "model_ar_4 = ARIMA(df.market_value,order = (4,0,0))\n",
    "results_ar_4 = model_ar_4.fit()\n",
    "results_ar_4.summary()"
   ]
  },
  {
   "cell_type": "code",
   "execution_count": 101,
   "id": "b6803ba9",
   "metadata": {},
   "outputs": [
    {
     "data": {
      "text/html": [
       "<table class=\"simpletable\">\n",
       "<caption>SARIMAX Results</caption>\n",
       "<tr>\n",
       "  <th>Dep. Variable:</th>     <td>market_value</td>   <th>  No. Observations:  </th>    <td>5020</td>   \n",
       "</tr>\n",
       "<tr>\n",
       "  <th>Model:</th>            <td>ARIMA(7, 0, 0)</td>  <th>  Log Likelihood     </th> <td>-27587.016</td>\n",
       "</tr>\n",
       "<tr>\n",
       "  <th>Date:</th>            <td>Sat, 20 Nov 2021</td> <th>  AIC                </th>  <td>55192.033</td>\n",
       "</tr>\n",
       "<tr>\n",
       "  <th>Time:</th>                <td>19:49:38</td>     <th>  BIC                </th>  <td>55250.724</td>\n",
       "</tr>\n",
       "<tr>\n",
       "  <th>Sample:</th>             <td>01-10-1994</td>    <th>  HQIC               </th>  <td>55212.599</td>\n",
       "</tr>\n",
       "<tr>\n",
       "  <th></th>                   <td>- 04-05-2013</td>   <th>                     </th>      <td> </td>    \n",
       "</tr>\n",
       "<tr>\n",
       "  <th>Covariance Type:</th>        <td>opg</td>       <th>                     </th>      <td> </td>    \n",
       "</tr>\n",
       "</table>\n",
       "<table class=\"simpletable\">\n",
       "<tr>\n",
       "     <td></td>       <th>coef</th>     <th>std err</th>      <th>z</th>      <th>P>|z|</th>  <th>[0.025</th>    <th>0.975]</th>  \n",
       "</tr>\n",
       "<tr>\n",
       "  <th>const</th>  <td> 5089.9683</td> <td>  407.299</td> <td>   12.497</td> <td> 0.000</td> <td> 4291.678</td> <td> 5888.259</td>\n",
       "</tr>\n",
       "<tr>\n",
       "  <th>ar.L1</th>  <td>    0.9783</td> <td>    0.010</td> <td>   95.725</td> <td> 0.000</td> <td>    0.958</td> <td>    0.998</td>\n",
       "</tr>\n",
       "<tr>\n",
       "  <th>ar.L2</th>  <td>   -0.0304</td> <td>    0.014</td> <td>   -2.182</td> <td> 0.029</td> <td>   -0.058</td> <td>   -0.003</td>\n",
       "</tr>\n",
       "<tr>\n",
       "  <th>ar.L3</th>  <td>   -0.0267</td> <td>    0.013</td> <td>   -2.106</td> <td> 0.035</td> <td>   -0.052</td> <td>   -0.002</td>\n",
       "</tr>\n",
       "<tr>\n",
       "  <th>ar.L4</th>  <td>    0.1039</td> <td>    0.013</td> <td>    8.053</td> <td> 0.000</td> <td>    0.079</td> <td>    0.129</td>\n",
       "</tr>\n",
       "<tr>\n",
       "  <th>ar.L5</th>  <td>   -0.0668</td> <td>    0.012</td> <td>   -5.481</td> <td> 0.000</td> <td>   -0.091</td> <td>   -0.043</td>\n",
       "</tr>\n",
       "<tr>\n",
       "  <th>ar.L6</th>  <td>   -0.0025</td> <td>    0.013</td> <td>   -0.198</td> <td> 0.843</td> <td>   -0.027</td> <td>    0.022</td>\n",
       "</tr>\n",
       "<tr>\n",
       "  <th>ar.L7</th>  <td>    0.0427</td> <td>    0.010</td> <td>    4.396</td> <td> 0.000</td> <td>    0.024</td> <td>    0.062</td>\n",
       "</tr>\n",
       "<tr>\n",
       "  <th>sigma2</th> <td> 3471.5694</td> <td>   42.082</td> <td>   82.496</td> <td> 0.000</td> <td> 3389.091</td> <td> 3554.048</td>\n",
       "</tr>\n",
       "</table>\n",
       "<table class=\"simpletable\">\n",
       "<tr>\n",
       "  <th>Ljung-Box (L1) (Q):</th>     <td>0.00</td> <th>  Jarque-Bera (JB):  </th> <td>3011.50</td>\n",
       "</tr>\n",
       "<tr>\n",
       "  <th>Prob(Q):</th>                <td>0.98</td> <th>  Prob(JB):          </th>  <td>0.00</td>  \n",
       "</tr>\n",
       "<tr>\n",
       "  <th>Heteroskedasticity (H):</th> <td>1.89</td> <th>  Skew:              </th>  <td>-0.30</td> \n",
       "</tr>\n",
       "<tr>\n",
       "  <th>Prob(H) (two-sided):</th>    <td>0.00</td> <th>  Kurtosis:          </th>  <td>6.75</td>  \n",
       "</tr>\n",
       "</table><br/><br/>Warnings:<br/>[1] Covariance matrix calculated using the outer product of gradients (complex-step)."
      ],
      "text/plain": [
       "<class 'statsmodels.iolib.summary.Summary'>\n",
       "\"\"\"\n",
       "                               SARIMAX Results                                \n",
       "==============================================================================\n",
       "Dep. Variable:           market_value   No. Observations:                 5020\n",
       "Model:                 ARIMA(7, 0, 0)   Log Likelihood              -27587.016\n",
       "Date:                Sat, 20 Nov 2021   AIC                          55192.033\n",
       "Time:                        19:49:38   BIC                          55250.724\n",
       "Sample:                    01-10-1994   HQIC                         55212.599\n",
       "                         - 04-05-2013                                         \n",
       "Covariance Type:                  opg                                         \n",
       "==============================================================================\n",
       "                 coef    std err          z      P>|z|      [0.025      0.975]\n",
       "------------------------------------------------------------------------------\n",
       "const       5089.9683    407.299     12.497      0.000    4291.678    5888.259\n",
       "ar.L1          0.9783      0.010     95.725      0.000       0.958       0.998\n",
       "ar.L2         -0.0304      0.014     -2.182      0.029      -0.058      -0.003\n",
       "ar.L3         -0.0267      0.013     -2.106      0.035      -0.052      -0.002\n",
       "ar.L4          0.1039      0.013      8.053      0.000       0.079       0.129\n",
       "ar.L5         -0.0668      0.012     -5.481      0.000      -0.091      -0.043\n",
       "ar.L6         -0.0025      0.013     -0.198      0.843      -0.027       0.022\n",
       "ar.L7          0.0427      0.010      4.396      0.000       0.024       0.062\n",
       "sigma2      3471.5694     42.082     82.496      0.000    3389.091    3554.048\n",
       "===================================================================================\n",
       "Ljung-Box (L1) (Q):                   0.00   Jarque-Bera (JB):              3011.50\n",
       "Prob(Q):                              0.98   Prob(JB):                         0.00\n",
       "Heteroskedasticity (H):               1.89   Skew:                            -0.30\n",
       "Prob(H) (two-sided):                  0.00   Kurtosis:                         6.75\n",
       "===================================================================================\n",
       "\n",
       "Warnings:\n",
       "[1] Covariance matrix calculated using the outer product of gradients (complex-step).\n",
       "\"\"\""
      ]
     },
     "execution_count": 101,
     "metadata": {},
     "output_type": "execute_result"
    }
   ],
   "source": [
    "model_ar_7 = ARIMA(df.market_value,order = (7,0,0))\n",
    "results_ar_7 = model_ar_7.fit()\n",
    "results_ar_7.summary()"
   ]
  },
  {
   "cell_type": "markdown",
   "id": "c9e29e1b",
   "metadata": {},
   "source": [
    "### LLR Test\n",
    "\n",
    "The Log Likelihood ratio test is to check if the log likelihood of the more complex function is significantly better than the log likelihood of the simpler function\n",
    "It returns tht p value of the difference.\n"
   ]
  },
  {
   "cell_type": "code",
   "execution_count": 49,
   "id": "ed00c455",
   "metadata": {},
   "outputs": [],
   "source": [
    "def LLR_test(mod_1,mod_2,DF=1):\n",
    "    L1 = mod_1.fit().llf\n",
    "    L2 = mod_2.fit().llf\n",
    "    LR = 2 * (L2 - L1)\n",
    "    p=chi2.sf(LR,DF).round(3)\n",
    "    return p"
   ]
  },
  {
   "cell_type": "code",
   "execution_count": 60,
   "id": "dc77ed2e",
   "metadata": {},
   "outputs": [
    {
     "data": {
      "text/plain": [
       "1.0"
      ]
     },
     "execution_count": 60,
     "metadata": {},
     "output_type": "execute_result"
    }
   ],
   "source": [
    "LLR_test(model_ar,model_ar_2)"
   ]
  },
  {
   "cell_type": "code",
   "execution_count": 63,
   "id": "8bac328e",
   "metadata": {},
   "outputs": [
    {
     "data": {
      "text/plain": [
       "0.001"
      ]
     },
     "execution_count": 63,
     "metadata": {},
     "output_type": "execute_result"
    }
   ],
   "source": [
    "LLR_test(model_ar,model_ar_3)"
   ]
  },
  {
   "cell_type": "code",
   "execution_count": 64,
   "id": "09fc7262",
   "metadata": {},
   "outputs": [
    {
     "data": {
      "text/plain": [
       "0.0"
      ]
     },
     "execution_count": 64,
     "metadata": {},
     "output_type": "execute_result"
    }
   ],
   "source": [
    "LLR_test(model_ar_3,model_ar_4)"
   ]
  },
  {
   "cell_type": "markdown",
   "id": "c6e69847",
   "metadata": {},
   "source": [
    "We should keep trying more complex models until both these considiotns are satisfied- \n",
    "\n",
    "* High p value returned from LLR test, indicating that the model is not significantly better.\n",
    "* High p value for the co-efficient of the last lag term, indicating that the coefficient is not significantly different from zero, and hence the variable has no explanatory power.\n",
    "\n",
    "We received some confusing results here. AR(2) was worse than AR(1) in terms of LLR, but AR(4) is better than AR(3) which is better than AR(1). This, the author claims continues tight uptill AR(8). So,the higher lag models performed better, even with several coefficients at insignificant levels.\n",
    "\n",
    "This is the case when we use AR models to predict non-stationary data. To avoid this, we should use a stationary time series.\n",
    "\n",
    "##### AR Models are best for predicting stationary time series."
   ]
  },
  {
   "cell_type": "code",
   "execution_count": 66,
   "id": "928604ef",
   "metadata": {},
   "outputs": [
    {
     "data": {
      "text/plain": [
       "(-1.9041551418836862,\n",
       " 0.3301089327702835,\n",
       " 6,\n",
       " 5014,\n",
       " {'1%': -3.4316548765428174,\n",
       "  '5%': -2.8621166146845334,\n",
       "  '10%': -2.5670769326348926},\n",
       " 54854.15304507557)"
      ]
     },
     "execution_count": 66,
     "metadata": {},
     "output_type": "execute_result"
    }
   ],
   "source": [
    "sts.adfuller(df.market_value)"
   ]
  },
  {
   "cell_type": "markdown",
   "id": "12efef59",
   "metadata": {},
   "source": [
    "The DF test shows that the time series we are studying is non-stationary. Test Statistic is not less than critical value at all three significance levels.p value shows that there is 33% chance of not rejecting null hypothesis, ie. 33% chance that series is not stationary."
   ]
  },
  {
   "cell_type": "markdown",
   "id": "24b615a4",
   "metadata": {},
   "source": [
    "### Returns\n",
    "\n",
    "One way to deal with a non-stationary series is to make it stationary. In this case, transforming prices to returns could yield aseries that is stationary. Let us find out."
   ]
  },
  {
   "cell_type": "code",
   "execution_count": 70,
   "id": "bd91e5ac",
   "metadata": {},
   "outputs": [
    {
     "name": "stderr",
     "output_type": "stream",
     "text": [
      "C:\\Users\\Admin\\AppData\\Local\\Temp/ipykernel_11684/767974315.py:1: SettingWithCopyWarning: \n",
      "A value is trying to be set on a copy of a slice from a DataFrame.\n",
      "Try using .loc[row_indexer,col_indexer] = value instead\n",
      "\n",
      "See the caveats in the documentation: https://pandas.pydata.org/pandas-docs/stable/user_guide/indexing.html#returning-a-view-versus-a-copy\n",
      "  df['returns'] = df.market_value.pct_change(1).mul(100)\n"
     ]
    }
   ],
   "source": [
    "df['returns'] = df.market_value.pct_change(1).mul(100)\n",
    "df = df.iloc[1:]"
   ]
  },
  {
   "cell_type": "code",
   "execution_count": 71,
   "id": "f702f9ee",
   "metadata": {},
   "outputs": [
    {
     "data": {
      "text/plain": [
       "(-12.770265719497312,\n",
       " 7.798058336035586e-24,\n",
       " 32,\n",
       " 4987,\n",
       " {'1%': -3.431661944885779,\n",
       "  '5%': -2.8621197374408225,\n",
       "  '10%': -2.5670785949998973},\n",
       " 15696.767245697501)"
      ]
     },
     "execution_count": 71,
     "metadata": {},
     "output_type": "execute_result"
    }
   ],
   "source": [
    "sts.adfuller(df.returns)"
   ]
  },
  {
   "cell_type": "markdown",
   "id": "bbd3d50d",
   "metadata": {},
   "source": [
    "DF Test shows that the returns are indeed stationary."
   ]
  },
  {
   "cell_type": "markdown",
   "id": "bd4c7c16",
   "metadata": {},
   "source": [
    "### ACF and PACF for Returns"
   ]
  },
  {
   "cell_type": "code",
   "execution_count": 73,
   "id": "c38d166b",
   "metadata": {},
   "outputs": [
    {
     "data": {
      "image/png": "[encoded data removed]",
      "text/plain": [
       "<Figure size 432x288 with 1 Axes>"
      ]
     },
     "metadata": {},
     "output_type": "display_data"
    }
   ],
   "source": [
    "sgt.plot_acf(df.returns,zero = False,lags = 40)\n",
    "plt.title('ACF for Returns',size=24)\n",
    "plt.ylim(-0.2,0.2)\n",
    "plt.show()"
   ]
  },
  {
   "cell_type": "code",
   "execution_count": 74,
   "id": "836a8c55",
   "metadata": {},
   "outputs": [
    {
     "name": "stderr",
     "output_type": "stream",
     "text": [
      "c:\\python39\\lib\\site-packages\\statsmodels\\graphics\\tsaplots.py:348: FutureWarning: The default method 'yw' can produce PACF values outside of the [-1,1] interval. After 0.13, the default will change tounadjusted Yule-Walker ('ywm'). You can use this method now by setting method='ywm'.\n",
      "  warnings.warn(\n"
     ]
    },
    {
     "data": {
      "image/png": "[encoded data removed]",
      "text/plain": [
       "<Figure size 432x288 with 1 Axes>"
      ]
     },
     "metadata": {},
     "output_type": "display_data"
    }
   ],
   "source": [
    "sgt.plot_pacf(df.returns,zero = False,lags = 40)\n",
    "plt.title('PACF for Returns',size=24)\n",
    "plt.ylim(-0.2,0.2)\n",
    "plt.show()"
   ]
  },
  {
   "cell_type": "markdown",
   "id": "5cf94113",
   "metadata": {},
   "source": [
    "We see that most values above LAG = 6 are insignificant, indicating that the return is mostly driven by it;s value few days ago, The negative value shows that the returns are cyclical, ie, negative returns are followed by positive returns and vice versa."
   ]
  },
  {
   "cell_type": "markdown",
   "id": "4a21b3f2",
   "metadata": {},
   "source": [
    "### AR(1) for returns"
   ]
  },
  {
   "cell_type": "code",
   "execution_count": 76,
   "id": "41337857",
   "metadata": {},
   "outputs": [
    {
     "data": {
      "text/html": [
       "<table class=\"simpletable\">\n",
       "<caption>SARIMAX Results</caption>\n",
       "<tr>\n",
       "  <th>Dep. Variable:</th>        <td>returns</td>     <th>  No. Observations:  </th>   <td>5020</td>   \n",
       "</tr>\n",
       "<tr>\n",
       "  <th>Model:</th>            <td>ARIMA(1, 0, 0)</td>  <th>  Log Likelihood     </th> <td>-7929.749</td>\n",
       "</tr>\n",
       "<tr>\n",
       "  <th>Date:</th>            <td>Sat, 20 Nov 2021</td> <th>  AIC                </th> <td>15865.497</td>\n",
       "</tr>\n",
       "<tr>\n",
       "  <th>Time:</th>                <td>18:44:25</td>     <th>  BIC                </th> <td>15885.061</td>\n",
       "</tr>\n",
       "<tr>\n",
       "  <th>Sample:</th>             <td>01-10-1994</td>    <th>  HQIC               </th> <td>15872.353</td>\n",
       "</tr>\n",
       "<tr>\n",
       "  <th></th>                   <td>- 04-05-2013</td>   <th>                     </th>     <td> </td>    \n",
       "</tr>\n",
       "<tr>\n",
       "  <th>Covariance Type:</th>        <td>opg</td>       <th>                     </th>     <td> </td>    \n",
       "</tr>\n",
       "</table>\n",
       "<table class=\"simpletable\">\n",
       "<tr>\n",
       "     <td></td>       <th>coef</th>     <th>std err</th>      <th>z</th>      <th>P>|z|</th>  <th>[0.025</th>    <th>0.975]</th>  \n",
       "</tr>\n",
       "<tr>\n",
       "  <th>const</th>  <td>    0.0188</td> <td>    0.016</td> <td>    1.143</td> <td> 0.253</td> <td>   -0.013</td> <td>    0.051</td>\n",
       "</tr>\n",
       "<tr>\n",
       "  <th>ar.L1</th>  <td>   -0.0230</td> <td>    0.009</td> <td>   -2.697</td> <td> 0.007</td> <td>   -0.040</td> <td>   -0.006</td>\n",
       "</tr>\n",
       "<tr>\n",
       "  <th>sigma2</th> <td>    1.3790</td> <td>    0.014</td> <td>  100.092</td> <td> 0.000</td> <td>    1.352</td> <td>    1.406</td>\n",
       "</tr>\n",
       "</table>\n",
       "<table class=\"simpletable\">\n",
       "<tr>\n",
       "  <th>Ljung-Box (L1) (Q):</th>     <td>0.01</td> <th>  Jarque-Bera (JB):  </th> <td>7872.72</td>\n",
       "</tr>\n",
       "<tr>\n",
       "  <th>Prob(Q):</th>                <td>0.93</td> <th>  Prob(JB):          </th>  <td>0.00</td>  \n",
       "</tr>\n",
       "<tr>\n",
       "  <th>Heteroskedasticity (H):</th> <td>2.04</td> <th>  Skew:              </th>  <td>-0.03</td> \n",
       "</tr>\n",
       "<tr>\n",
       "  <th>Prob(H) (two-sided):</th>    <td>0.00</td> <th>  Kurtosis:          </th>  <td>9.13</td>  \n",
       "</tr>\n",
       "</table><br/><br/>Warnings:<br/>[1] Covariance matrix calculated using the outer product of gradients (complex-step)."
      ],
      "text/plain": [
       "<class 'statsmodels.iolib.summary.Summary'>\n",
       "\"\"\"\n",
       "                               SARIMAX Results                                \n",
       "==============================================================================\n",
       "Dep. Variable:                returns   No. Observations:                 5020\n",
       "Model:                 ARIMA(1, 0, 0)   Log Likelihood               -7929.749\n",
       "Date:                Sat, 20 Nov 2021   AIC                          15865.497\n",
       "Time:                        18:44:25   BIC                          15885.061\n",
       "Sample:                    01-10-1994   HQIC                         15872.353\n",
       "                         - 04-05-2013                                         \n",
       "Covariance Type:                  opg                                         \n",
       "==============================================================================\n",
       "                 coef    std err          z      P>|z|      [0.025      0.975]\n",
       "------------------------------------------------------------------------------\n",
       "const          0.0188      0.016      1.143      0.253      -0.013       0.051\n",
       "ar.L1         -0.0230      0.009     -2.697      0.007      -0.040      -0.006\n",
       "sigma2         1.3790      0.014    100.092      0.000       1.352       1.406\n",
       "===================================================================================\n",
       "Ljung-Box (L1) (Q):                   0.01   Jarque-Bera (JB):              7872.72\n",
       "Prob(Q):                              0.93   Prob(JB):                         0.00\n",
       "Heteroskedasticity (H):               2.04   Skew:                            -0.03\n",
       "Prob(H) (two-sided):                  0.00   Kurtosis:                         9.13\n",
       "===================================================================================\n",
       "\n",
       "Warnings:\n",
       "[1] Covariance matrix calculated using the outer product of gradients (complex-step).\n",
       "\"\"\""
      ]
     },
     "execution_count": 76,
     "metadata": {},
     "output_type": "execute_result"
    }
   ],
   "source": [
    "model_ret_ar_1 = ARIMA(df.returns,order = (1,0,0))\n",
    "results_ret_ar_1 = model_ret_ar_1.fit()\n",
    "results_ret_ar_1.summary()"
   ]
  },
  {
   "cell_type": "markdown",
   "id": "04a1d7fd",
   "metadata": {},
   "source": [
    "The p values are quite high, so we should perhaps look at higher lag models to see if the situation improves."
   ]
  },
  {
   "cell_type": "markdown",
   "id": "296cbfa7",
   "metadata": {},
   "source": [
    "### Higher Lag models for Returns"
   ]
  },
  {
   "cell_type": "code",
   "execution_count": 78,
   "id": "4b5ef98d",
   "metadata": {},
   "outputs": [
    {
     "data": {
      "text/html": [
       "<table class=\"simpletable\">\n",
       "<caption>SARIMAX Results</caption>\n",
       "<tr>\n",
       "  <th>Dep. Variable:</th>        <td>returns</td>     <th>  No. Observations:  </th>   <td>5020</td>   \n",
       "</tr>\n",
       "<tr>\n",
       "  <th>Model:</th>            <td>ARIMA(2, 0, 0)</td>  <th>  Log Likelihood     </th> <td>-7923.456</td>\n",
       "</tr>\n",
       "<tr>\n",
       "  <th>Date:</th>            <td>Sat, 20 Nov 2021</td> <th>  AIC                </th> <td>15854.911</td>\n",
       "</tr>\n",
       "<tr>\n",
       "  <th>Time:</th>                <td>18:56:10</td>     <th>  BIC                </th> <td>15880.996</td>\n",
       "</tr>\n",
       "<tr>\n",
       "  <th>Sample:</th>             <td>01-10-1994</td>    <th>  HQIC               </th> <td>15864.052</td>\n",
       "</tr>\n",
       "<tr>\n",
       "  <th></th>                   <td>- 04-05-2013</td>   <th>                     </th>     <td> </td>    \n",
       "</tr>\n",
       "<tr>\n",
       "  <th>Covariance Type:</th>        <td>opg</td>       <th>                     </th>     <td> </td>    \n",
       "</tr>\n",
       "</table>\n",
       "<table class=\"simpletable\">\n",
       "<tr>\n",
       "     <td></td>       <th>coef</th>     <th>std err</th>      <th>z</th>      <th>P>|z|</th>  <th>[0.025</th>    <th>0.975]</th>  \n",
       "</tr>\n",
       "<tr>\n",
       "  <th>const</th>  <td>    0.0188</td> <td>    0.016</td> <td>    1.194</td> <td> 0.233</td> <td>   -0.012</td> <td>    0.050</td>\n",
       "</tr>\n",
       "<tr>\n",
       "  <th>ar.L1</th>  <td>   -0.0242</td> <td>    0.009</td> <td>   -2.799</td> <td> 0.005</td> <td>   -0.041</td> <td>   -0.007</td>\n",
       "</tr>\n",
       "<tr>\n",
       "  <th>ar.L2</th>  <td>   -0.0500</td> <td>    0.008</td> <td>   -6.371</td> <td> 0.000</td> <td>   -0.065</td> <td>   -0.035</td>\n",
       "</tr>\n",
       "<tr>\n",
       "  <th>sigma2</th> <td>    1.3756</td> <td>    0.014</td> <td>   99.592</td> <td> 0.000</td> <td>    1.348</td> <td>    1.403</td>\n",
       "</tr>\n",
       "</table>\n",
       "<table class=\"simpletable\">\n",
       "<tr>\n",
       "  <th>Ljung-Box (L1) (Q):</th>     <td>0.08</td> <th>  Jarque-Bera (JB):  </th> <td>7730.29</td>\n",
       "</tr>\n",
       "<tr>\n",
       "  <th>Prob(Q):</th>                <td>0.77</td> <th>  Prob(JB):          </th>  <td>0.00</td>  \n",
       "</tr>\n",
       "<tr>\n",
       "  <th>Heteroskedasticity (H):</th> <td>2.03</td> <th>  Skew:              </th>  <td>-0.06</td> \n",
       "</tr>\n",
       "<tr>\n",
       "  <th>Prob(H) (two-sided):</th>    <td>0.00</td> <th>  Kurtosis:          </th>  <td>9.08</td>  \n",
       "</tr>\n",
       "</table><br/><br/>Warnings:<br/>[1] Covariance matrix calculated using the outer product of gradients (complex-step)."
      ],
      "text/plain": [
       "<class 'statsmodels.iolib.summary.Summary'>\n",
       "\"\"\"\n",
       "                               SARIMAX Results                                \n",
       "==============================================================================\n",
       "Dep. Variable:                returns   No. Observations:                 5020\n",
       "Model:                 ARIMA(2, 0, 0)   Log Likelihood               -7923.456\n",
       "Date:                Sat, 20 Nov 2021   AIC                          15854.911\n",
       "Time:                        18:56:10   BIC                          15880.996\n",
       "Sample:                    01-10-1994   HQIC                         15864.052\n",
       "                         - 04-05-2013                                         \n",
       "Covariance Type:                  opg                                         \n",
       "==============================================================================\n",
       "                 coef    std err          z      P>|z|      [0.025      0.975]\n",
       "------------------------------------------------------------------------------\n",
       "const          0.0188      0.016      1.194      0.233      -0.012       0.050\n",
       "ar.L1         -0.0242      0.009     -2.799      0.005      -0.041      -0.007\n",
       "ar.L2         -0.0500      0.008     -6.371      0.000      -0.065      -0.035\n",
       "sigma2         1.3756      0.014     99.592      0.000       1.348       1.403\n",
       "===================================================================================\n",
       "Ljung-Box (L1) (Q):                   0.08   Jarque-Bera (JB):              7730.29\n",
       "Prob(Q):                              0.77   Prob(JB):                         0.00\n",
       "Heteroskedasticity (H):               2.03   Skew:                            -0.06\n",
       "Prob(H) (two-sided):                  0.00   Kurtosis:                         9.08\n",
       "===================================================================================\n",
       "\n",
       "Warnings:\n",
       "[1] Covariance matrix calculated using the outer product of gradients (complex-step).\n",
       "\"\"\""
      ]
     },
     "execution_count": 78,
     "metadata": {},
     "output_type": "execute_result"
    }
   ],
   "source": [
    "model_ret_ar_2 = ARIMA(df.returns,order = (2,0,0))\n",
    "results_ret_ar_2 = model_ret_ar_2.fit()\n",
    "results_ret_ar_2.summary()"
   ]
  },
  {
   "cell_type": "code",
   "execution_count": 79,
   "id": "6576f917",
   "metadata": {},
   "outputs": [
    {
     "data": {
      "text/plain": [
       "0.0"
      ]
     },
     "execution_count": 79,
     "metadata": {},
     "output_type": "execute_result"
    }
   ],
   "source": [
    "LLR_test(model_ret_ar_1,model_ret_ar_2)"
   ]
  },
  {
   "cell_type": "markdown",
   "id": "3ab79e4f",
   "metadata": {},
   "source": [
    "The p value for LAG = 2 is zero, so quite significant.P value for LAG 1 has also reduced. LLR test results are also good."
   ]
  },
  {
   "cell_type": "code",
   "execution_count": 82,
   "id": "f7739ef0",
   "metadata": {},
   "outputs": [
    {
     "data": {
      "text/html": [
       "<table class=\"simpletable\">\n",
       "<caption>SARIMAX Results</caption>\n",
       "<tr>\n",
       "  <th>Dep. Variable:</th>        <td>returns</td>     <th>  No. Observations:  </th>   <td>5020</td>   \n",
       "</tr>\n",
       "<tr>\n",
       "  <th>Model:</th>            <td>ARIMA(3, 0, 0)</td>  <th>  Log Likelihood     </th> <td>-7906.738</td>\n",
       "</tr>\n",
       "<tr>\n",
       "  <th>Date:</th>            <td>Sat, 20 Nov 2021</td> <th>  AIC                </th> <td>15823.477</td>\n",
       "</tr>\n",
       "<tr>\n",
       "  <th>Time:</th>                <td>19:00:21</td>     <th>  BIC                </th> <td>15856.083</td>\n",
       "</tr>\n",
       "<tr>\n",
       "  <th>Sample:</th>             <td>01-10-1994</td>    <th>  HQIC               </th> <td>15834.902</td>\n",
       "</tr>\n",
       "<tr>\n",
       "  <th></th>                   <td>- 04-05-2013</td>   <th>                     </th>     <td> </td>    \n",
       "</tr>\n",
       "<tr>\n",
       "  <th>Covariance Type:</th>        <td>opg</td>       <th>                     </th>     <td> </td>    \n",
       "</tr>\n",
       "</table>\n",
       "<table class=\"simpletable\">\n",
       "<tr>\n",
       "     <td></td>       <th>coef</th>     <th>std err</th>      <th>z</th>      <th>P>|z|</th>  <th>[0.025</th>    <th>0.975]</th>  \n",
       "</tr>\n",
       "<tr>\n",
       "  <th>const</th>  <td>    0.0189</td> <td>    0.015</td> <td>    1.272</td> <td> 0.203</td> <td>   -0.010</td> <td>    0.048</td>\n",
       "</tr>\n",
       "<tr>\n",
       "  <th>ar.L1</th>  <td>   -0.0283</td> <td>    0.009</td> <td>   -3.199</td> <td> 0.001</td> <td>   -0.046</td> <td>   -0.011</td>\n",
       "</tr>\n",
       "<tr>\n",
       "  <th>ar.L2</th>  <td>   -0.0521</td> <td>    0.008</td> <td>   -6.684</td> <td> 0.000</td> <td>   -0.067</td> <td>   -0.037</td>\n",
       "</tr>\n",
       "<tr>\n",
       "  <th>ar.L3</th>  <td>   -0.0815</td> <td>    0.008</td> <td>  -10.192</td> <td> 0.000</td> <td>   -0.097</td> <td>   -0.066</td>\n",
       "</tr>\n",
       "<tr>\n",
       "  <th>sigma2</th> <td>    1.3664</td> <td>    0.014</td> <td>   94.518</td> <td> 0.000</td> <td>    1.338</td> <td>    1.395</td>\n",
       "</tr>\n",
       "</table>\n",
       "<table class=\"simpletable\">\n",
       "<tr>\n",
       "  <th>Ljung-Box (L1) (Q):</th>     <td>0.07</td> <th>  Jarque-Bera (JB):  </th> <td>6859.16</td>\n",
       "</tr>\n",
       "<tr>\n",
       "  <th>Prob(Q):</th>                <td>0.79</td> <th>  Prob(JB):          </th>  <td>0.00</td>  \n",
       "</tr>\n",
       "<tr>\n",
       "  <th>Heteroskedasticity (H):</th> <td>2.02</td> <th>  Skew:              </th>  <td>-0.15</td> \n",
       "</tr>\n",
       "<tr>\n",
       "  <th>Prob(H) (two-sided):</th>    <td>0.00</td> <th>  Kurtosis:          </th>  <td>8.72</td>  \n",
       "</tr>\n",
       "</table><br/><br/>Warnings:<br/>[1] Covariance matrix calculated using the outer product of gradients (complex-step)."
      ],
      "text/plain": [
       "<class 'statsmodels.iolib.summary.Summary'>\n",
       "\"\"\"\n",
       "                               SARIMAX Results                                \n",
       "==============================================================================\n",
       "Dep. Variable:                returns   No. Observations:                 5020\n",
       "Model:                 ARIMA(3, 0, 0)   Log Likelihood               -7906.738\n",
       "Date:                Sat, 20 Nov 2021   AIC                          15823.477\n",
       "Time:                        19:00:21   BIC                          15856.083\n",
       "Sample:                    01-10-1994   HQIC                         15834.902\n",
       "                         - 04-05-2013                                         \n",
       "Covariance Type:                  opg                                         \n",
       "==============================================================================\n",
       "                 coef    std err          z      P>|z|      [0.025      0.975]\n",
       "------------------------------------------------------------------------------\n",
       "const          0.0189      0.015      1.272      0.203      -0.010       0.048\n",
       "ar.L1         -0.0283      0.009     -3.199      0.001      -0.046      -0.011\n",
       "ar.L2         -0.0521      0.008     -6.684      0.000      -0.067      -0.037\n",
       "ar.L3         -0.0815      0.008    -10.192      0.000      -0.097      -0.066\n",
       "sigma2         1.3664      0.014     94.518      0.000       1.338       1.395\n",
       "===================================================================================\n",
       "Ljung-Box (L1) (Q):                   0.07   Jarque-Bera (JB):              6859.16\n",
       "Prob(Q):                              0.79   Prob(JB):                         0.00\n",
       "Heteroskedasticity (H):               2.02   Skew:                            -0.15\n",
       "Prob(H) (two-sided):                  0.00   Kurtosis:                         8.72\n",
       "===================================================================================\n",
       "\n",
       "Warnings:\n",
       "[1] Covariance matrix calculated using the outer product of gradients (complex-step).\n",
       "\"\"\""
      ]
     },
     "execution_count": 82,
     "metadata": {},
     "output_type": "execute_result"
    }
   ],
   "source": [
    "model_ret_ar_3 = ARIMA(df.returns,order = (3,0,0))\n",
    "results_ret_ar_3 = model_ret_ar_3.fit()\n",
    "results_ret_ar_3.summary()"
   ]
  },
  {
   "cell_type": "code",
   "execution_count": 83,
   "id": "f10e9005",
   "metadata": {},
   "outputs": [
    {
     "data": {
      "text/plain": [
       "0.0"
      ]
     },
     "execution_count": 83,
     "metadata": {},
     "output_type": "execute_result"
    }
   ],
   "source": [
    "LLR_test(model_ret_ar_2,model_ret_ar_3)"
   ]
  },
  {
   "cell_type": "markdown",
   "id": "aa608379",
   "metadata": {},
   "source": [
    "Even better. AR(3) outperforms AR(2)."
   ]
  },
  {
   "cell_type": "code",
   "execution_count": 85,
   "id": "49bba23d",
   "metadata": {},
   "outputs": [
    {
     "data": {
      "text/html": [
       "<table class=\"simpletable\">\n",
       "<caption>SARIMAX Results</caption>\n",
       "<tr>\n",
       "  <th>Dep. Variable:</th>        <td>returns</td>     <th>  No. Observations:  </th>   <td>5020</td>   \n",
       "</tr>\n",
       "<tr>\n",
       "  <th>Model:</th>            <td>ARIMA(4, 0, 0)</td>  <th>  Log Likelihood     </th> <td>-7901.330</td>\n",
       "</tr>\n",
       "<tr>\n",
       "  <th>Date:</th>            <td>Sat, 20 Nov 2021</td> <th>  AIC                </th> <td>15814.661</td>\n",
       "</tr>\n",
       "<tr>\n",
       "  <th>Time:</th>                <td>19:03:32</td>     <th>  BIC                </th> <td>15853.788</td>\n",
       "</tr>\n",
       "<tr>\n",
       "  <th>Sample:</th>             <td>01-10-1994</td>    <th>  HQIC               </th> <td>15828.371</td>\n",
       "</tr>\n",
       "<tr>\n",
       "  <th></th>                   <td>- 04-05-2013</td>   <th>                     </th>     <td> </td>    \n",
       "</tr>\n",
       "<tr>\n",
       "  <th>Covariance Type:</th>        <td>opg</td>       <th>                     </th>     <td> </td>    \n",
       "</tr>\n",
       "</table>\n",
       "<table class=\"simpletable\">\n",
       "<tr>\n",
       "     <td></td>       <th>coef</th>     <th>std err</th>      <th>z</th>      <th>P>|z|</th>  <th>[0.025</th>    <th>0.975]</th>  \n",
       "</tr>\n",
       "<tr>\n",
       "  <th>const</th>  <td>    0.0188</td> <td>    0.016</td> <td>    1.208</td> <td> 0.227</td> <td>   -0.012</td> <td>    0.049</td>\n",
       "</tr>\n",
       "<tr>\n",
       "  <th>ar.L1</th>  <td>   -0.0245</td> <td>    0.009</td> <td>   -2.770</td> <td> 0.006</td> <td>   -0.042</td> <td>   -0.007</td>\n",
       "</tr>\n",
       "<tr>\n",
       "  <th>ar.L2</th>  <td>   -0.0496</td> <td>    0.008</td> <td>   -6.327</td> <td> 0.000</td> <td>   -0.065</td> <td>   -0.034</td>\n",
       "</tr>\n",
       "<tr>\n",
       "  <th>ar.L3</th>  <td>   -0.0802</td> <td>    0.008</td> <td>   -9.995</td> <td> 0.000</td> <td>   -0.096</td> <td>   -0.064</td>\n",
       "</tr>\n",
       "<tr>\n",
       "  <th>ar.L4</th>  <td>    0.0464</td> <td>    0.008</td> <td>    5.650</td> <td> 0.000</td> <td>    0.030</td> <td>    0.063</td>\n",
       "</tr>\n",
       "<tr>\n",
       "  <th>sigma2</th> <td>    1.3635</td> <td>    0.015</td> <td>   92.776</td> <td> 0.000</td> <td>    1.335</td> <td>    1.392</td>\n",
       "</tr>\n",
       "</table>\n",
       "<table class=\"simpletable\">\n",
       "<tr>\n",
       "  <th>Ljung-Box (L1) (Q):</th>     <td>0.04</td> <th>  Jarque-Bera (JB):  </th> <td>6580.94</td>\n",
       "</tr>\n",
       "<tr>\n",
       "  <th>Prob(Q):</th>                <td>0.84</td> <th>  Prob(JB):          </th>  <td>0.00</td>  \n",
       "</tr>\n",
       "<tr>\n",
       "  <th>Heteroskedasticity (H):</th> <td>2.00</td> <th>  Skew:              </th>  <td>-0.12</td> \n",
       "</tr>\n",
       "<tr>\n",
       "  <th>Prob(H) (two-sided):</th>    <td>0.00</td> <th>  Kurtosis:          </th>  <td>8.60</td>  \n",
       "</tr>\n",
       "</table><br/><br/>Warnings:<br/>[1] Covariance matrix calculated using the outer product of gradients (complex-step)."
      ],
      "text/plain": [
       "<class 'statsmodels.iolib.summary.Summary'>\n",
       "\"\"\"\n",
       "                               SARIMAX Results                                \n",
       "==============================================================================\n",
       "Dep. Variable:                returns   No. Observations:                 5020\n",
       "Model:                 ARIMA(4, 0, 0)   Log Likelihood               -7901.330\n",
       "Date:                Sat, 20 Nov 2021   AIC                          15814.661\n",
       "Time:                        19:03:32   BIC                          15853.788\n",
       "Sample:                    01-10-1994   HQIC                         15828.371\n",
       "                         - 04-05-2013                                         \n",
       "Covariance Type:                  opg                                         \n",
       "==============================================================================\n",
       "                 coef    std err          z      P>|z|      [0.025      0.975]\n",
       "------------------------------------------------------------------------------\n",
       "const          0.0188      0.016      1.208      0.227      -0.012       0.049\n",
       "ar.L1         -0.0245      0.009     -2.770      0.006      -0.042      -0.007\n",
       "ar.L2         -0.0496      0.008     -6.327      0.000      -0.065      -0.034\n",
       "ar.L3         -0.0802      0.008     -9.995      0.000      -0.096      -0.064\n",
       "ar.L4          0.0464      0.008      5.650      0.000       0.030       0.063\n",
       "sigma2         1.3635      0.015     92.776      0.000       1.335       1.392\n",
       "===================================================================================\n",
       "Ljung-Box (L1) (Q):                   0.04   Jarque-Bera (JB):              6580.94\n",
       "Prob(Q):                              0.84   Prob(JB):                         0.00\n",
       "Heteroskedasticity (H):               2.00   Skew:                            -0.12\n",
       "Prob(H) (two-sided):                  0.00   Kurtosis:                         8.60\n",
       "===================================================================================\n",
       "\n",
       "Warnings:\n",
       "[1] Covariance matrix calculated using the outer product of gradients (complex-step).\n",
       "\"\"\""
      ]
     },
     "execution_count": 85,
     "metadata": {},
     "output_type": "execute_result"
    }
   ],
   "source": [
    "model_ret_ar_4 = ARIMA(df.returns,order = (4,0,0))\n",
    "results_ret_ar_4 = model_ret_ar_4.fit()\n",
    "results_ret_ar_4.summary()"
   ]
  },
  {
   "cell_type": "code",
   "execution_count": 86,
   "id": "64d72b19",
   "metadata": {},
   "outputs": [
    {
     "data": {
      "text/plain": [
       "0.001"
      ]
     },
     "execution_count": 86,
     "metadata": {},
     "output_type": "execute_result"
    }
   ],
   "source": [
    "LLR_test(model_ret_ar_3,model_ret_ar_4)"
   ]
  },
  {
   "cell_type": "code",
   "execution_count": 87,
   "id": "a2ab0958",
   "metadata": {},
   "outputs": [
    {
     "data": {
      "text/html": [
       "<table class=\"simpletable\">\n",
       "<caption>SARIMAX Results</caption>\n",
       "<tr>\n",
       "  <th>Dep. Variable:</th>        <td>returns</td>     <th>  No. Observations:  </th>   <td>5020</td>   \n",
       "</tr>\n",
       "<tr>\n",
       "  <th>Model:</th>            <td>ARIMA(5, 0, 0)</td>  <th>  Log Likelihood     </th> <td>-7892.390</td>\n",
       "</tr>\n",
       "<tr>\n",
       "  <th>Date:</th>            <td>Sat, 20 Nov 2021</td> <th>  AIC                </th> <td>15798.779</td>\n",
       "</tr>\n",
       "<tr>\n",
       "  <th>Time:</th>                <td>19:04:36</td>     <th>  BIC                </th> <td>15844.428</td>\n",
       "</tr>\n",
       "<tr>\n",
       "  <th>Sample:</th>             <td>01-10-1994</td>    <th>  HQIC               </th> <td>15814.775</td>\n",
       "</tr>\n",
       "<tr>\n",
       "  <th></th>                   <td>- 04-05-2013</td>   <th>                     </th>     <td> </td>    \n",
       "</tr>\n",
       "<tr>\n",
       "  <th>Covariance Type:</th>        <td>opg</td>       <th>                     </th>     <td> </td>    \n",
       "</tr>\n",
       "</table>\n",
       "<table class=\"simpletable\">\n",
       "<tr>\n",
       "     <td></td>       <th>coef</th>     <th>std err</th>      <th>z</th>      <th>P>|z|</th>  <th>[0.025</th>    <th>0.975]</th>  \n",
       "</tr>\n",
       "<tr>\n",
       "  <th>const</th>  <td>    0.0189</td> <td>    0.015</td> <td>    1.273</td> <td> 0.203</td> <td>   -0.010</td> <td>    0.048</td>\n",
       "</tr>\n",
       "<tr>\n",
       "  <th>ar.L1</th>  <td>   -0.0217</td> <td>    0.009</td> <td>   -2.396</td> <td> 0.017</td> <td>   -0.040</td> <td>   -0.004</td>\n",
       "</tr>\n",
       "<tr>\n",
       "  <th>ar.L2</th>  <td>   -0.0544</td> <td>    0.008</td> <td>   -6.826</td> <td> 0.000</td> <td>   -0.070</td> <td>   -0.039</td>\n",
       "</tr>\n",
       "<tr>\n",
       "  <th>ar.L3</th>  <td>   -0.0831</td> <td>    0.008</td> <td>  -10.406</td> <td> 0.000</td> <td>   -0.099</td> <td>   -0.067</td>\n",
       "</tr>\n",
       "<tr>\n",
       "  <th>ar.L4</th>  <td>    0.0449</td> <td>    0.008</td> <td>    5.431</td> <td> 0.000</td> <td>    0.029</td> <td>    0.061</td>\n",
       "</tr>\n",
       "<tr>\n",
       "  <th>ar.L5</th>  <td>   -0.0596</td> <td>    0.008</td> <td>   -7.468</td> <td> 0.000</td> <td>   -0.075</td> <td>   -0.044</td>\n",
       "</tr>\n",
       "<tr>\n",
       "  <th>sigma2</th> <td>    1.3586</td> <td>    0.015</td> <td>   92.526</td> <td> 0.000</td> <td>    1.330</td> <td>    1.387</td>\n",
       "</tr>\n",
       "</table>\n",
       "<table class=\"simpletable\">\n",
       "<tr>\n",
       "  <th>Ljung-Box (L1) (Q):</th>     <td>0.04</td> <th>  Jarque-Bera (JB):  </th> <td>6398.87</td>\n",
       "</tr>\n",
       "<tr>\n",
       "  <th>Prob(Q):</th>                <td>0.84</td> <th>  Prob(JB):          </th>  <td>0.00</td>  \n",
       "</tr>\n",
       "<tr>\n",
       "  <th>Heteroskedasticity (H):</th> <td>2.00</td> <th>  Skew:              </th>  <td>-0.17</td> \n",
       "</tr>\n",
       "<tr>\n",
       "  <th>Prob(H) (two-sided):</th>    <td>0.00</td> <th>  Kurtosis:          </th>  <td>8.52</td>  \n",
       "</tr>\n",
       "</table><br/><br/>Warnings:<br/>[1] Covariance matrix calculated using the outer product of gradients (complex-step)."
      ],
      "text/plain": [
       "<class 'statsmodels.iolib.summary.Summary'>\n",
       "\"\"\"\n",
       "                               SARIMAX Results                                \n",
       "==============================================================================\n",
       "Dep. Variable:                returns   No. Observations:                 5020\n",
       "Model:                 ARIMA(5, 0, 0)   Log Likelihood               -7892.390\n",
       "Date:                Sat, 20 Nov 2021   AIC                          15798.779\n",
       "Time:                        19:04:36   BIC                          15844.428\n",
       "Sample:                    01-10-1994   HQIC                         15814.775\n",
       "                         - 04-05-2013                                         \n",
       "Covariance Type:                  opg                                         \n",
       "==============================================================================\n",
       "                 coef    std err          z      P>|z|      [0.025      0.975]\n",
       "------------------------------------------------------------------------------\n",
       "const          0.0189      0.015      1.273      0.203      -0.010       0.048\n",
       "ar.L1         -0.0217      0.009     -2.396      0.017      -0.040      -0.004\n",
       "ar.L2         -0.0544      0.008     -6.826      0.000      -0.070      -0.039\n",
       "ar.L3         -0.0831      0.008    -10.406      0.000      -0.099      -0.067\n",
       "ar.L4          0.0449      0.008      5.431      0.000       0.029       0.061\n",
       "ar.L5         -0.0596      0.008     -7.468      0.000      -0.075      -0.044\n",
       "sigma2         1.3586      0.015     92.526      0.000       1.330       1.387\n",
       "===================================================================================\n",
       "Ljung-Box (L1) (Q):                   0.04   Jarque-Bera (JB):              6398.87\n",
       "Prob(Q):                              0.84   Prob(JB):                         0.00\n",
       "Heteroskedasticity (H):               2.00   Skew:                            -0.17\n",
       "Prob(H) (two-sided):                  0.00   Kurtosis:                         8.52\n",
       "===================================================================================\n",
       "\n",
       "Warnings:\n",
       "[1] Covariance matrix calculated using the outer product of gradients (complex-step).\n",
       "\"\"\""
      ]
     },
     "execution_count": 87,
     "metadata": {},
     "output_type": "execute_result"
    }
   ],
   "source": [
    "model_ret_ar_5 = ARIMA(df.returns,order = (5,0,0))\n",
    "results_ret_ar_5 = model_ret_ar_5.fit()\n",
    "results_ret_ar_5.summary()"
   ]
  },
  {
   "cell_type": "code",
   "execution_count": 88,
   "id": "e6275daf",
   "metadata": {},
   "outputs": [
    {
     "data": {
      "text/plain": [
       "0.0"
      ]
     },
     "execution_count": 88,
     "metadata": {},
     "output_type": "execute_result"
    }
   ],
   "source": [
    "LLR_test(model_ret_ar_4,model_ret_ar_5)"
   ]
  },
  {
   "cell_type": "code",
   "execution_count": 89,
   "id": "3930d709",
   "metadata": {},
   "outputs": [
    {
     "data": {
      "text/html": [
       "<table class=\"simpletable\">\n",
       "<caption>SARIMAX Results</caption>\n",
       "<tr>\n",
       "  <th>Dep. Variable:</th>        <td>returns</td>     <th>  No. Observations:  </th>   <td>5020</td>   \n",
       "</tr>\n",
       "<tr>\n",
       "  <th>Model:</th>            <td>ARIMA(6, 0, 0)</td>  <th>  Log Likelihood     </th> <td>-7886.945</td>\n",
       "</tr>\n",
       "<tr>\n",
       "  <th>Date:</th>            <td>Sat, 20 Nov 2021</td> <th>  AIC                </th> <td>15789.890</td>\n",
       "</tr>\n",
       "<tr>\n",
       "  <th>Time:</th>                <td>19:05:24</td>     <th>  BIC                </th> <td>15842.059</td>\n",
       "</tr>\n",
       "<tr>\n",
       "  <th>Sample:</th>             <td>01-10-1994</td>    <th>  HQIC               </th> <td>15808.170</td>\n",
       "</tr>\n",
       "<tr>\n",
       "  <th></th>                   <td>- 04-05-2013</td>   <th>                     </th>     <td> </td>    \n",
       "</tr>\n",
       "<tr>\n",
       "  <th>Covariance Type:</th>        <td>opg</td>       <th>                     </th>     <td> </td>    \n",
       "</tr>\n",
       "</table>\n",
       "<table class=\"simpletable\">\n",
       "<tr>\n",
       "     <td></td>       <th>coef</th>     <th>std err</th>      <th>z</th>      <th>P>|z|</th>  <th>[0.025</th>    <th>0.975]</th>  \n",
       "</tr>\n",
       "<tr>\n",
       "  <th>const</th>  <td>    0.0189</td> <td>    0.014</td> <td>    1.324</td> <td> 0.186</td> <td>   -0.009</td> <td>    0.047</td>\n",
       "</tr>\n",
       "<tr>\n",
       "  <th>ar.L1</th>  <td>   -0.0245</td> <td>    0.009</td> <td>   -2.640</td> <td> 0.008</td> <td>   -0.043</td> <td>   -0.006</td>\n",
       "</tr>\n",
       "<tr>\n",
       "  <th>ar.L2</th>  <td>   -0.0523</td> <td>    0.008</td> <td>   -6.505</td> <td> 0.000</td> <td>   -0.068</td> <td>   -0.037</td>\n",
       "</tr>\n",
       "<tr>\n",
       "  <th>ar.L3</th>  <td>   -0.0870</td> <td>    0.008</td> <td>  -10.853</td> <td> 0.000</td> <td>   -0.103</td> <td>   -0.071</td>\n",
       "</tr>\n",
       "<tr>\n",
       "  <th>ar.L4</th>  <td>    0.0424</td> <td>    0.008</td> <td>    5.133</td> <td> 0.000</td> <td>    0.026</td> <td>    0.059</td>\n",
       "</tr>\n",
       "<tr>\n",
       "  <th>ar.L5</th>  <td>   -0.0607</td> <td>    0.008</td> <td>   -7.568</td> <td> 0.000</td> <td>   -0.076</td> <td>   -0.045</td>\n",
       "</tr>\n",
       "<tr>\n",
       "  <th>ar.L6</th>  <td>   -0.0466</td> <td>    0.009</td> <td>   -5.216</td> <td> 0.000</td> <td>   -0.064</td> <td>   -0.029</td>\n",
       "</tr>\n",
       "<tr>\n",
       "  <th>sigma2</th> <td>    1.3557</td> <td>    0.015</td> <td>   92.513</td> <td> 0.000</td> <td>    1.327</td> <td>    1.384</td>\n",
       "</tr>\n",
       "</table>\n",
       "<table class=\"simpletable\">\n",
       "<tr>\n",
       "  <th>Ljung-Box (L1) (Q):</th>     <td>0.00</td> <th>  Jarque-Bera (JB):  </th> <td>6487.37</td>\n",
       "</tr>\n",
       "<tr>\n",
       "  <th>Prob(Q):</th>                <td>0.97</td> <th>  Prob(JB):          </th>  <td>0.00</td>  \n",
       "</tr>\n",
       "<tr>\n",
       "  <th>Heteroskedasticity (H):</th> <td>2.00</td> <th>  Skew:              </th>  <td>-0.20</td> \n",
       "</tr>\n",
       "<tr>\n",
       "  <th>Prob(H) (two-sided):</th>    <td>0.00</td> <th>  Kurtosis:          </th>  <td>8.56</td>  \n",
       "</tr>\n",
       "</table><br/><br/>Warnings:<br/>[1] Covariance matrix calculated using the outer product of gradients (complex-step)."
      ],
      "text/plain": [
       "<class 'statsmodels.iolib.summary.Summary'>\n",
       "\"\"\"\n",
       "                               SARIMAX Results                                \n",
       "==============================================================================\n",
       "Dep. Variable:                returns   No. Observations:                 5020\n",
       "Model:                 ARIMA(6, 0, 0)   Log Likelihood               -7886.945\n",
       "Date:                Sat, 20 Nov 2021   AIC                          15789.890\n",
       "Time:                        19:05:24   BIC                          15842.059\n",
       "Sample:                    01-10-1994   HQIC                         15808.170\n",
       "                         - 04-05-2013                                         \n",
       "Covariance Type:                  opg                                         \n",
       "==============================================================================\n",
       "                 coef    std err          z      P>|z|      [0.025      0.975]\n",
       "------------------------------------------------------------------------------\n",
       "const          0.0189      0.014      1.324      0.186      -0.009       0.047\n",
       "ar.L1         -0.0245      0.009     -2.640      0.008      -0.043      -0.006\n",
       "ar.L2         -0.0523      0.008     -6.505      0.000      -0.068      -0.037\n",
       "ar.L3         -0.0870      0.008    -10.853      0.000      -0.103      -0.071\n",
       "ar.L4          0.0424      0.008      5.133      0.000       0.026       0.059\n",
       "ar.L5         -0.0607      0.008     -7.568      0.000      -0.076      -0.045\n",
       "ar.L6         -0.0466      0.009     -5.216      0.000      -0.064      -0.029\n",
       "sigma2         1.3557      0.015     92.513      0.000       1.327       1.384\n",
       "===================================================================================\n",
       "Ljung-Box (L1) (Q):                   0.00   Jarque-Bera (JB):              6487.37\n",
       "Prob(Q):                              0.97   Prob(JB):                         0.00\n",
       "Heteroskedasticity (H):               2.00   Skew:                            -0.20\n",
       "Prob(H) (two-sided):                  0.00   Kurtosis:                         8.56\n",
       "===================================================================================\n",
       "\n",
       "Warnings:\n",
       "[1] Covariance matrix calculated using the outer product of gradients (complex-step).\n",
       "\"\"\""
      ]
     },
     "execution_count": 89,
     "metadata": {},
     "output_type": "execute_result"
    }
   ],
   "source": [
    "model_ret_ar_6 = ARIMA(df.returns,order = (6,0,0))\n",
    "results_ret_ar_6 = model_ret_ar_6.fit()\n",
    "results_ret_ar_6.summary()"
   ]
  },
  {
   "cell_type": "code",
   "execution_count": 90,
   "id": "c9d4a03c",
   "metadata": {},
   "outputs": [
    {
     "data": {
      "text/plain": [
       "0.001"
      ]
     },
     "execution_count": 90,
     "metadata": {},
     "output_type": "execute_result"
    }
   ],
   "source": [
    "LLR_test(model_ret_ar_5,model_ret_ar_6)"
   ]
  },
  {
   "cell_type": "code",
   "execution_count": 91,
   "id": "c3c05a15",
   "metadata": {},
   "outputs": [
    {
     "data": {
      "text/html": [
       "<table class=\"simpletable\">\n",
       "<caption>SARIMAX Results</caption>\n",
       "<tr>\n",
       "  <th>Dep. Variable:</th>        <td>returns</td>     <th>  No. Observations:  </th>   <td>5020</td>   \n",
       "</tr>\n",
       "<tr>\n",
       "  <th>Model:</th>            <td>ARIMA(7, 0, 0)</td>  <th>  Log Likelihood     </th> <td>-7886.647</td>\n",
       "</tr>\n",
       "<tr>\n",
       "  <th>Date:</th>            <td>Sat, 20 Nov 2021</td> <th>  AIC                </th> <td>15791.294</td>\n",
       "</tr>\n",
       "<tr>\n",
       "  <th>Time:</th>                <td>19:06:28</td>     <th>  BIC                </th> <td>15849.985</td>\n",
       "</tr>\n",
       "<tr>\n",
       "  <th>Sample:</th>             <td>01-10-1994</td>    <th>  HQIC               </th> <td>15811.860</td>\n",
       "</tr>\n",
       "<tr>\n",
       "  <th></th>                   <td>- 04-05-2013</td>   <th>                     </th>     <td> </td>    \n",
       "</tr>\n",
       "<tr>\n",
       "  <th>Covariance Type:</th>        <td>opg</td>       <th>                     </th>     <td> </td>    \n",
       "</tr>\n",
       "</table>\n",
       "<table class=\"simpletable\">\n",
       "<tr>\n",
       "     <td></td>       <th>coef</th>     <th>std err</th>      <th>z</th>      <th>P>|z|</th>  <th>[0.025</th>    <th>0.975]</th>  \n",
       "</tr>\n",
       "<tr>\n",
       "  <th>const</th>  <td>    0.0189</td> <td>    0.015</td> <td>    1.304</td> <td> 0.192</td> <td>   -0.010</td> <td>    0.047</td>\n",
       "</tr>\n",
       "<tr>\n",
       "  <th>ar.L1</th>  <td>   -0.0240</td> <td>    0.009</td> <td>   -2.579</td> <td> 0.010</td> <td>   -0.042</td> <td>   -0.006</td>\n",
       "</tr>\n",
       "<tr>\n",
       "  <th>ar.L2</th>  <td>   -0.0517</td> <td>    0.008</td> <td>   -6.375</td> <td> 0.000</td> <td>   -0.068</td> <td>   -0.036</td>\n",
       "</tr>\n",
       "<tr>\n",
       "  <th>ar.L3</th>  <td>   -0.0874</td> <td>    0.008</td> <td>  -10.725</td> <td> 0.000</td> <td>   -0.103</td> <td>   -0.071</td>\n",
       "</tr>\n",
       "<tr>\n",
       "  <th>ar.L4</th>  <td>    0.0433</td> <td>    0.008</td> <td>    5.183</td> <td> 0.000</td> <td>    0.027</td> <td>    0.060</td>\n",
       "</tr>\n",
       "<tr>\n",
       "  <th>ar.L5</th>  <td>   -0.0601</td> <td>    0.008</td> <td>   -7.463</td> <td> 0.000</td> <td>   -0.076</td> <td>   -0.044</td>\n",
       "</tr>\n",
       "<tr>\n",
       "  <th>ar.L6</th>  <td>   -0.0463</td> <td>    0.009</td> <td>   -5.173</td> <td> 0.000</td> <td>   -0.064</td> <td>   -0.029</td>\n",
       "</tr>\n",
       "<tr>\n",
       "  <th>ar.L7</th>  <td>    0.0109</td> <td>    0.009</td> <td>    1.205</td> <td> 0.228</td> <td>   -0.007</td> <td>    0.029</td>\n",
       "</tr>\n",
       "<tr>\n",
       "  <th>sigma2</th> <td>    1.3555</td> <td>    0.015</td> <td>   91.777</td> <td> 0.000</td> <td>    1.327</td> <td>    1.384</td>\n",
       "</tr>\n",
       "</table>\n",
       "<table class=\"simpletable\">\n",
       "<tr>\n",
       "  <th>Ljung-Box (L1) (Q):</th>     <td>0.00</td> <th>  Jarque-Bera (JB):  </th> <td>6448.20</td>\n",
       "</tr>\n",
       "<tr>\n",
       "  <th>Prob(Q):</th>                <td>0.99</td> <th>  Prob(JB):          </th>  <td>0.00</td>  \n",
       "</tr>\n",
       "<tr>\n",
       "  <th>Heteroskedasticity (H):</th> <td>2.00</td> <th>  Skew:              </th>  <td>-0.19</td> \n",
       "</tr>\n",
       "<tr>\n",
       "  <th>Prob(H) (two-sided):</th>    <td>0.00</td> <th>  Kurtosis:          </th>  <td>8.54</td>  \n",
       "</tr>\n",
       "</table><br/><br/>Warnings:<br/>[1] Covariance matrix calculated using the outer product of gradients (complex-step)."
      ],
      "text/plain": [
       "<class 'statsmodels.iolib.summary.Summary'>\n",
       "\"\"\"\n",
       "                               SARIMAX Results                                \n",
       "==============================================================================\n",
       "Dep. Variable:                returns   No. Observations:                 5020\n",
       "Model:                 ARIMA(7, 0, 0)   Log Likelihood               -7886.647\n",
       "Date:                Sat, 20 Nov 2021   AIC                          15791.294\n",
       "Time:                        19:06:28   BIC                          15849.985\n",
       "Sample:                    01-10-1994   HQIC                         15811.860\n",
       "                         - 04-05-2013                                         \n",
       "Covariance Type:                  opg                                         \n",
       "==============================================================================\n",
       "                 coef    std err          z      P>|z|      [0.025      0.975]\n",
       "------------------------------------------------------------------------------\n",
       "const          0.0189      0.015      1.304      0.192      -0.010       0.047\n",
       "ar.L1         -0.0240      0.009     -2.579      0.010      -0.042      -0.006\n",
       "ar.L2         -0.0517      0.008     -6.375      0.000      -0.068      -0.036\n",
       "ar.L3         -0.0874      0.008    -10.725      0.000      -0.103      -0.071\n",
       "ar.L4          0.0433      0.008      5.183      0.000       0.027       0.060\n",
       "ar.L5         -0.0601      0.008     -7.463      0.000      -0.076      -0.044\n",
       "ar.L6         -0.0463      0.009     -5.173      0.000      -0.064      -0.029\n",
       "ar.L7          0.0109      0.009      1.205      0.228      -0.007       0.029\n",
       "sigma2         1.3555      0.015     91.777      0.000       1.327       1.384\n",
       "===================================================================================\n",
       "Ljung-Box (L1) (Q):                   0.00   Jarque-Bera (JB):              6448.20\n",
       "Prob(Q):                              0.99   Prob(JB):                         0.00\n",
       "Heteroskedasticity (H):               2.00   Skew:                            -0.19\n",
       "Prob(H) (two-sided):                  0.00   Kurtosis:                         8.54\n",
       "===================================================================================\n",
       "\n",
       "Warnings:\n",
       "[1] Covariance matrix calculated using the outer product of gradients (complex-step).\n",
       "\"\"\""
      ]
     },
     "execution_count": 91,
     "metadata": {},
     "output_type": "execute_result"
    }
   ],
   "source": [
    "model_ret_ar_7 = ARIMA(df.returns,order = (7,0,0))\n",
    "results_ret_ar_7 = model_ret_ar_7.fit()\n",
    "results_ret_ar_7.summary()"
   ]
  },
  {
   "cell_type": "code",
   "execution_count": 92,
   "id": "c1bd1c49",
   "metadata": {},
   "outputs": [
    {
     "data": {
      "text/plain": [
       "0.44"
      ]
     },
     "execution_count": 92,
     "metadata": {},
     "output_type": "execute_result"
    }
   ],
   "source": [
    "LLR_test(model_ret_ar_6,model_ret_ar_7)"
   ]
  },
  {
   "cell_type": "markdown",
   "id": "a265a04b",
   "metadata": {},
   "source": [
    "p values for LAG 7 is quite high. AIC, BIC have increased. LLR test is also negative - high p value.\n",
    "So, perhaps safe to conclude that AR(6) is best."
   ]
  },
  {
   "cell_type": "markdown",
   "id": "70e73e4e",
   "metadata": {},
   "source": [
    "### Normalizing Values"
   ]
  },
  {
   "cell_type": "code",
   "execution_count": 93,
   "id": "7e0adfdc",
   "metadata": {},
   "outputs": [
    {
     "name": "stderr",
     "output_type": "stream",
     "text": [
      "C:\\Users\\Admin\\AppData\\Local\\Temp/ipykernel_11684/2298868729.py:2: SettingWithCopyWarning: \n",
      "A value is trying to be set on a copy of a slice from a DataFrame.\n",
      "Try using .loc[row_indexer,col_indexer] = value instead\n",
      "\n",
      "See the caveats in the documentation: https://pandas.pydata.org/pandas-docs/stable/user_guide/indexing.html#returning-a-view-versus-a-copy\n",
      "  df['norm'] = df.market_value.div(benchmark).mul(100)\n"
     ]
    },
    {
     "data": {
      "text/plain": [
       "(-1.8928710132672304,\n",
       " 0.3354222074330093,\n",
       " 6,\n",
       " 5013,\n",
       " {'1%': -3.431655136974821,\n",
       "  '5%': -2.8621167297421373,\n",
       "  '10%': -2.567076993884522},\n",
       " 19553.90073102193)"
      ]
     },
     "execution_count": 93,
     "metadata": {},
     "output_type": "execute_result"
    }
   ],
   "source": [
    "benchmark = df.market_value.iloc[0]\n",
    "df['norm'] = df.market_value.div(benchmark).mul(100)\n",
    "sts.adfuller(df.norm)"
   ]
  },
  {
   "cell_type": "markdown",
   "id": "c9a3b446",
   "metadata": {},
   "source": [
    "Normalized Prices are non-stationary. So,not useful. Let's try normalizing returns."
   ]
  },
  {
   "cell_type": "markdown",
   "id": "f031f85e",
   "metadata": {},
   "source": [
    "### Normalizing Returns"
   ]
  },
  {
   "cell_type": "code",
   "execution_count": 96,
   "id": "f052ba88",
   "metadata": {},
   "outputs": [
    {
     "name": "stderr",
     "output_type": "stream",
     "text": [
      "C:\\Users\\Admin\\AppData\\Local\\Temp/ipykernel_11684/3093353087.py:2: SettingWithCopyWarning: \n",
      "A value is trying to be set on a copy of a slice from a DataFrame.\n",
      "Try using .loc[row_indexer,col_indexer] = value instead\n",
      "\n",
      "See the caveats in the documentation: https://pandas.pydata.org/pandas-docs/stable/user_guide/indexing.html#returning-a-view-versus-a-copy\n",
      "  df['norm_ret'] = df.returns.div(benchmark_ret).mul(100)\n"
     ]
    },
    {
     "data": {
      "text/plain": [
       "(-12.77026571949723,\n",
       " 7.798058336038551e-24,\n",
       " 32,\n",
       " 4987,\n",
       " {'1%': -3.431661944885779,\n",
       "  '5%': -2.8621197374408225,\n",
       "  '10%': -2.5670785949998973},\n",
       " 80114.49116124898)"
      ]
     },
     "execution_count": 96,
     "metadata": {},
     "output_type": "execute_result"
    }
   ],
   "source": [
    "benchmark_ret = df.returns.iloc[0]\n",
    "df['norm_ret'] = df.returns.div(benchmark_ret).mul(100)\n",
    "sts.adfuller(df.norm_ret)"
   ]
  },
  {
   "cell_type": "markdown",
   "id": "52aec0b4",
   "metadata": {},
   "source": [
    "Normalized returns are stationary. So, good to use."
   ]
  },
  {
   "cell_type": "markdown",
   "id": "dc0a45a0",
   "metadata": {},
   "source": [
    "### AR on normalized returns"
   ]
  },
  {
   "cell_type": "code",
   "execution_count": 98,
   "id": "e0f37e7a",
   "metadata": {},
   "outputs": [
    {
     "data": {
      "text/html": [
       "<table class=\"simpletable\">\n",
       "<caption>SARIMAX Results</caption>\n",
       "<tr>\n",
       "  <th>Dep. Variable:</th>       <td>norm_ret</td>     <th>  No. Observations:  </th>    <td>5020</td>   \n",
       "</tr>\n",
       "<tr>\n",
       "  <th>Model:</th>            <td>ARIMA(1, 0, 0)</td>  <th>  Log Likelihood     </th> <td>-40351.743</td>\n",
       "</tr>\n",
       "<tr>\n",
       "  <th>Date:</th>            <td>Sat, 20 Nov 2021</td> <th>  AIC                </th>  <td>80709.487</td>\n",
       "</tr>\n",
       "<tr>\n",
       "  <th>Time:</th>                <td>19:42:36</td>     <th>  BIC                </th>  <td>80729.050</td>\n",
       "</tr>\n",
       "<tr>\n",
       "  <th>Sample:</th>             <td>01-10-1994</td>    <th>  HQIC               </th>  <td>80716.342</td>\n",
       "</tr>\n",
       "<tr>\n",
       "  <th></th>                   <td>- 04-05-2013</td>   <th>                     </th>      <td> </td>    \n",
       "</tr>\n",
       "<tr>\n",
       "  <th>Covariance Type:</th>        <td>opg</td>       <th>                     </th>      <td> </td>    \n",
       "</tr>\n",
       "</table>\n",
       "<table class=\"simpletable\">\n",
       "<tr>\n",
       "     <td></td>       <th>coef</th>     <th>std err</th>      <th>z</th>      <th>P>|z|</th>  <th>[0.025</th>    <th>0.975]</th>  \n",
       "</tr>\n",
       "<tr>\n",
       "  <th>const</th>  <td>  -11.9731</td> <td>   10.476</td> <td>   -1.143</td> <td> 0.253</td> <td>  -32.506</td> <td>    8.560</td>\n",
       "</tr>\n",
       "<tr>\n",
       "  <th>ar.L1</th>  <td>   -0.0230</td> <td>    0.009</td> <td>   -2.697</td> <td> 0.007</td> <td>   -0.040</td> <td>   -0.006</td>\n",
       "</tr>\n",
       "<tr>\n",
       "  <th>sigma2</th> <td> 5.617e+05</td> <td> 5612.960</td> <td>  100.071</td> <td> 0.000</td> <td> 5.51e+05</td> <td> 5.73e+05</td>\n",
       "</tr>\n",
       "</table>\n",
       "<table class=\"simpletable\">\n",
       "<tr>\n",
       "  <th>Ljung-Box (L1) (Q):</th>     <td>0.01</td> <th>  Jarque-Bera (JB):  </th> <td>7872.68</td>\n",
       "</tr>\n",
       "<tr>\n",
       "  <th>Prob(Q):</th>                <td>0.93</td> <th>  Prob(JB):          </th>  <td>0.00</td>  \n",
       "</tr>\n",
       "<tr>\n",
       "  <th>Heteroskedasticity (H):</th> <td>2.04</td> <th>  Skew:              </th>  <td>0.03</td>  \n",
       "</tr>\n",
       "<tr>\n",
       "  <th>Prob(H) (two-sided):</th>    <td>0.00</td> <th>  Kurtosis:          </th>  <td>9.13</td>  \n",
       "</tr>\n",
       "</table><br/><br/>Warnings:<br/>[1] Covariance matrix calculated using the outer product of gradients (complex-step)."
      ],
      "text/plain": [
       "<class 'statsmodels.iolib.summary.Summary'>\n",
       "\"\"\"\n",
       "                               SARIMAX Results                                \n",
       "==============================================================================\n",
       "Dep. Variable:               norm_ret   No. Observations:                 5020\n",
       "Model:                 ARIMA(1, 0, 0)   Log Likelihood              -40351.743\n",
       "Date:                Sat, 20 Nov 2021   AIC                          80709.487\n",
       "Time:                        19:42:36   BIC                          80729.050\n",
       "Sample:                    01-10-1994   HQIC                         80716.342\n",
       "                         - 04-05-2013                                         \n",
       "Covariance Type:                  opg                                         \n",
       "==============================================================================\n",
       "                 coef    std err          z      P>|z|      [0.025      0.975]\n",
       "------------------------------------------------------------------------------\n",
       "const        -11.9731     10.476     -1.143      0.253     -32.506       8.560\n",
       "ar.L1         -0.0230      0.009     -2.697      0.007      -0.040      -0.006\n",
       "sigma2      5.617e+05   5612.960    100.071      0.000    5.51e+05    5.73e+05\n",
       "===================================================================================\n",
       "Ljung-Box (L1) (Q):                   0.01   Jarque-Bera (JB):              7872.68\n",
       "Prob(Q):                              0.93   Prob(JB):                         0.00\n",
       "Heteroskedasticity (H):               2.04   Skew:                             0.03\n",
       "Prob(H) (two-sided):                  0.00   Kurtosis:                         9.13\n",
       "===================================================================================\n",
       "\n",
       "Warnings:\n",
       "[1] Covariance matrix calculated using the outer product of gradients (complex-step).\n",
       "\"\"\""
      ]
     },
     "execution_count": 98,
     "metadata": {},
     "output_type": "execute_result"
    }
   ],
   "source": [
    "model_norm_ret_ar_1 = ARIMA(df.norm_ret,order = (1,0,0))\n",
    "results_norm_ret_ar_1 = model_norm_ret_ar_1.fit()\n",
    "results_norm_ret_ar_1.summary()"
   ]
  },
  {
   "cell_type": "code",
   "execution_count": 99,
   "id": "57240ced",
   "metadata": {},
   "outputs": [
    {
     "data": {
      "text/html": [
       "<table class=\"simpletable\">\n",
       "<caption>SARIMAX Results</caption>\n",
       "<tr>\n",
       "  <th>Dep. Variable:</th>       <td>norm_ret</td>     <th>  No. Observations:  </th>    <td>5020</td>   \n",
       "</tr>\n",
       "<tr>\n",
       "  <th>Model:</th>            <td>ARIMA(2, 0, 0)</td>  <th>  Log Likelihood     </th> <td>-40345.450</td>\n",
       "</tr>\n",
       "<tr>\n",
       "  <th>Date:</th>            <td>Sat, 20 Nov 2021</td> <th>  AIC                </th>  <td>80698.901</td>\n",
       "</tr>\n",
       "<tr>\n",
       "  <th>Time:</th>                <td>19:44:02</td>     <th>  BIC                </th>  <td>80724.986</td>\n",
       "</tr>\n",
       "<tr>\n",
       "  <th>Sample:</th>             <td>01-10-1994</td>    <th>  HQIC               </th>  <td>80708.041</td>\n",
       "</tr>\n",
       "<tr>\n",
       "  <th></th>                   <td>- 04-05-2013</td>   <th>                     </th>      <td> </td>    \n",
       "</tr>\n",
       "<tr>\n",
       "  <th>Covariance Type:</th>        <td>opg</td>       <th>                     </th>      <td> </td>    \n",
       "</tr>\n",
       "</table>\n",
       "<table class=\"simpletable\">\n",
       "<tr>\n",
       "     <td></td>       <th>coef</th>     <th>std err</th>      <th>z</th>      <th>P>|z|</th>  <th>[0.025</th>    <th>0.975]</th>  \n",
       "</tr>\n",
       "<tr>\n",
       "  <th>const</th>  <td>  -11.9731</td> <td>   10.050</td> <td>   -1.191</td> <td> 0.234</td> <td>  -31.671</td> <td>    7.725</td>\n",
       "</tr>\n",
       "<tr>\n",
       "  <th>ar.L1</th>  <td>   -0.0242</td> <td>    0.009</td> <td>   -2.797</td> <td> 0.005</td> <td>   -0.041</td> <td>   -0.007</td>\n",
       "</tr>\n",
       "<tr>\n",
       "  <th>ar.L2</th>  <td>   -0.0500</td> <td>    0.008</td> <td>   -6.368</td> <td> 0.000</td> <td>   -0.065</td> <td>   -0.035</td>\n",
       "</tr>\n",
       "<tr>\n",
       "  <th>sigma2</th> <td> 5.603e+05</td> <td> 5628.139</td> <td>   99.561</td> <td> 0.000</td> <td> 5.49e+05</td> <td> 5.71e+05</td>\n",
       "</tr>\n",
       "</table>\n",
       "<table class=\"simpletable\">\n",
       "<tr>\n",
       "  <th>Ljung-Box (L1) (Q):</th>     <td>0.08</td> <th>  Jarque-Bera (JB):  </th> <td>7730.40</td>\n",
       "</tr>\n",
       "<tr>\n",
       "  <th>Prob(Q):</th>                <td>0.77</td> <th>  Prob(JB):          </th>  <td>0.00</td>  \n",
       "</tr>\n",
       "<tr>\n",
       "  <th>Heteroskedasticity (H):</th> <td>2.03</td> <th>  Skew:              </th>  <td>0.06</td>  \n",
       "</tr>\n",
       "<tr>\n",
       "  <th>Prob(H) (two-sided):</th>    <td>0.00</td> <th>  Kurtosis:          </th>  <td>9.08</td>  \n",
       "</tr>\n",
       "</table><br/><br/>Warnings:<br/>[1] Covariance matrix calculated using the outer product of gradients (complex-step)."
      ],
      "text/plain": [
       "<class 'statsmodels.iolib.summary.Summary'>\n",
       "\"\"\"\n",
       "                               SARIMAX Results                                \n",
       "==============================================================================\n",
       "Dep. Variable:               norm_ret   No. Observations:                 5020\n",
       "Model:                 ARIMA(2, 0, 0)   Log Likelihood              -40345.450\n",
       "Date:                Sat, 20 Nov 2021   AIC                          80698.901\n",
       "Time:                        19:44:02   BIC                          80724.986\n",
       "Sample:                    01-10-1994   HQIC                         80708.041\n",
       "                         - 04-05-2013                                         \n",
       "Covariance Type:                  opg                                         \n",
       "==============================================================================\n",
       "                 coef    std err          z      P>|z|      [0.025      0.975]\n",
       "------------------------------------------------------------------------------\n",
       "const        -11.9731     10.050     -1.191      0.234     -31.671       7.725\n",
       "ar.L1         -0.0242      0.009     -2.797      0.005      -0.041      -0.007\n",
       "ar.L2         -0.0500      0.008     -6.368      0.000      -0.065      -0.035\n",
       "sigma2      5.603e+05   5628.139     99.561      0.000    5.49e+05    5.71e+05\n",
       "===================================================================================\n",
       "Ljung-Box (L1) (Q):                   0.08   Jarque-Bera (JB):              7730.40\n",
       "Prob(Q):                              0.77   Prob(JB):                         0.00\n",
       "Heteroskedasticity (H):               2.03   Skew:                             0.06\n",
       "Prob(H) (two-sided):                  0.00   Kurtosis:                         9.08\n",
       "===================================================================================\n",
       "\n",
       "Warnings:\n",
       "[1] Covariance matrix calculated using the outer product of gradients (complex-step).\n",
       "\"\"\""
      ]
     },
     "execution_count": 99,
     "metadata": {},
     "output_type": "execute_result"
    }
   ],
   "source": [
    "model_norm_ret_ar_2 = ARIMA(df.norm_ret,order = (2,0,0))\n",
    "results_norm_ret_ar_2 = model_norm_ret_ar_2.fit()\n",
    "results_norm_ret_ar_2.summary()"
   ]
  },
  {
   "cell_type": "markdown",
   "id": "ab4fe2ce",
   "metadata": {},
   "source": [
    "##### Comparing the normalized and non-normalized returns we find that the only thing that changes is the constant. Nothing else."
   ]
  },
  {
   "cell_type": "markdown",
   "id": "10854968",
   "metadata": {},
   "source": [
    "### Residuals\n",
    "\n",
    "We expect residuals to be white noise. Zero mean. Constant Variation. Stationary. No autocorrelation for any lags. Let's see if we find what we expect to find."
   ]
  },
  {
   "cell_type": "code",
   "execution_count": 103,
   "id": "2ba00f7c",
   "metadata": {},
   "outputs": [
    {
     "name": "stderr",
     "output_type": "stream",
     "text": [
      "C:\\Users\\Admin\\AppData\\Local\\Temp/ipykernel_11684/794269739.py:1: SettingWithCopyWarning: \n",
      "A value is trying to be set on a copy of a slice from a DataFrame.\n",
      "Try using .loc[row_indexer,col_indexer] = value instead\n",
      "\n",
      "See the caveats in the documentation: https://pandas.pydata.org/pandas-docs/stable/user_guide/indexing.html#returning-a-view-versus-a-copy\n",
      "  df['res_price'] = results_ar_7.resid\n"
     ]
    }
   ],
   "source": [
    "df['res_price'] = results_ar_7.resid"
   ]
  },
  {
   "cell_type": "code",
   "execution_count": 104,
   "id": "a1b06b59",
   "metadata": {},
   "outputs": [
    {
     "data": {
      "text/plain": [
       "0.3522785795345277"
      ]
     },
     "execution_count": 104,
     "metadata": {},
     "output_type": "execute_result"
    }
   ],
   "source": [
    "df.res_price.mean()"
   ]
  },
  {
   "cell_type": "code",
   "execution_count": 105,
   "id": "cf8aabc2",
   "metadata": {},
   "outputs": [
    {
     "data": {
      "text/plain": [
       "4010.358058670839"
      ]
     },
     "execution_count": 105,
     "metadata": {},
     "output_type": "execute_result"
    }
   ],
   "source": [
    "df.res_price.var()"
   ]
  },
  {
   "cell_type": "code",
   "execution_count": 106,
   "id": "81f5cd1e",
   "metadata": {},
   "outputs": [
    {
     "data": {
      "text/plain": [
       "(-75.94771894686276,\n",
       " 0.0,\n",
       " 0,\n",
       " 5019,\n",
       " {'1%': -3.4316535759402753,\n",
       "  '5%': -2.8621160400844468,\n",
       "  '10%': -2.567076626752987},\n",
       " 54832.16530984712)"
      ]
     },
     "execution_count": 106,
     "metadata": {},
     "output_type": "execute_result"
    }
   ],
   "source": [
    "sts.adfuller(df.res_price)"
   ]
  },
  {
   "cell_type": "code",
   "execution_count": 109,
   "id": "8a7b2f84",
   "metadata": {},
   "outputs": [
    {
     "data": {
      "image/png": "[encoded data removed]",
      "text/plain": [
       "<Figure size 432x288 with 1 Axes>"
      ]
     },
     "metadata": {},
     "output_type": "display_data"
    }
   ],
   "source": [
    "sgt.plot_acf(df.res_price,zero = False,lags = 40)\n",
    "plt.title('ACF for Residuals of prices',size=24)\n",
    "plt.ylim(-0.1,0.1)\n",
    "plt.show()"
   ]
  },
  {
   "cell_type": "code",
   "execution_count": 110,
   "id": "d19c3038",
   "metadata": {},
   "outputs": [
    {
     "data": {
      "image/png": "[encoded data removed]",
      "text/plain": [
       "<Figure size 1440x360 with 1 Axes>"
      ]
     },
     "metadata": {},
     "output_type": "display_data"
    }
   ],
   "source": [
    "df.res_price[1:].plot(figsize=(20,5))\n",
    "plt.title('Residuals of Prices')\n",
    "plt.show()"
   ]
  },
  {
   "cell_type": "markdown",
   "id": "cad98c1c",
   "metadata": {},
   "source": [
    "### Residuals on returns"
   ]
  },
  {
   "cell_type": "code",
   "execution_count": 112,
   "id": "25bad13a",
   "metadata": {},
   "outputs": [
    {
     "name": "stderr",
     "output_type": "stream",
     "text": [
      "C:\\Users\\Admin\\AppData\\Local\\Temp/ipykernel_11684/2424754327.py:1: SettingWithCopyWarning: \n",
      "A value is trying to be set on a copy of a slice from a DataFrame.\n",
      "Try using .loc[row_indexer,col_indexer] = value instead\n",
      "\n",
      "See the caveats in the documentation: https://pandas.pydata.org/pandas-docs/stable/user_guide/indexing.html#returning-a-view-versus-a-copy\n",
      "  df['res_ret'] = results_ret_ar_6.resid\n"
     ]
    }
   ],
   "source": [
    "df['res_ret'] = results_ret_ar_6.resid"
   ]
  },
  {
   "cell_type": "code",
   "execution_count": 113,
   "id": "aaf467cc",
   "metadata": {},
   "outputs": [
    {
     "data": {
      "text/plain": [
       "-4.853045496398005e-05"
      ]
     },
     "execution_count": 113,
     "metadata": {},
     "output_type": "execute_result"
    }
   ],
   "source": [
    "df.res_ret.mean()"
   ]
  },
  {
   "cell_type": "code",
   "execution_count": 114,
   "id": "8230c566",
   "metadata": {},
   "outputs": [
    {
     "data": {
      "text/plain": [
       "1.35598021287151"
      ]
     },
     "execution_count": 114,
     "metadata": {},
     "output_type": "execute_result"
    }
   ],
   "source": [
    "df.res_ret.var()"
   ]
  },
  {
   "cell_type": "code",
   "execution_count": 115,
   "id": "8057f8b5",
   "metadata": {},
   "outputs": [
    {
     "data": {
      "text/plain": [
       "(-70.78411835680876,\n",
       " 0.0,\n",
       " 0,\n",
       " 5019,\n",
       " {'1%': -3.4316535759402753,\n",
       "  '5%': -2.8621160400844468,\n",
       "  '10%': -2.567076626752987},\n",
       " 15692.570807333326)"
      ]
     },
     "execution_count": 115,
     "metadata": {},
     "output_type": "execute_result"
    }
   ],
   "source": [
    "sts.adfuller(df.res_ret)"
   ]
  },
  {
   "cell_type": "code",
   "execution_count": 116,
   "id": "9880a3b9",
   "metadata": {},
   "outputs": [
    {
     "data": {
      "image/png": "[encoded data removed]",
      "text/plain": [
       "<Figure size 432x288 with 1 Axes>"
      ]
     },
     "metadata": {},
     "output_type": "display_data"
    }
   ],
   "source": [
    "sgt.plot_acf(df.res_ret,zero = False,lags = 40)\n",
    "plt.title('ACF for Residuals of Returns',size=24)\n",
    "plt.ylim(-0.1,0.1)\n",
    "plt.show()"
   ]
  },
  {
   "cell_type": "code",
   "execution_count": 118,
   "id": "63806dea",
   "metadata": {},
   "outputs": [
    {
     "data": {
      "image/png": "[encoded data removed]",
      "text/plain": [
       "<Figure size 1440x360 with 1 Axes>"
      ]
     },
     "metadata": {},
     "output_type": "display_data"
    }
   ],
   "source": [
    "df.res_ret[1:].plot(figsize=(20,5))\n",
    "plt.title('Residuals of Returns')\n",
    "plt.show()"
   ]
  },
  {
   "cell_type": "markdown",
   "id": "2b7297c7",
   "metadata": {},
   "source": [
    "Both residuals appear to be similar to white noise. In case of returns, the mean is lower."
   ]
  }
 ],
 "metadata": {
  "kernelspec": {
   "display_name": "Python 3 (ipykernel)",
   "language": "python",
   "name": "python3"
  },
  "language_info": {
   "codemirror_mode": {
    "name": "ipython",
    "version": 3
   },
   "file_extension": ".py",
   "mimetype": "text/x-python",
   "name": "python",
   "nbconvert_exporter": "python",
   "pygments_lexer": "ipython3",
   "version": "3.9.1"
  }
 },
 "nbformat": 4,
 "nbformat_minor": 5
}
