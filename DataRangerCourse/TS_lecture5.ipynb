{
 "cells": [
  {
   "cell_type": "code",
   "execution_count": 23,
   "id": "7c1e233e",
   "metadata": {},
   "outputs": [],
   "source": [
    "import pandas as pd\n",
    "import numpy as np\n",
    "import matplotlib.pyplot as plt\n",
    "import statsmodels.graphics.tsaplots as sgt\n",
    "from statsmodels.tsa.arima.model import ARIMA\n",
    "import statsmodels.tsa.stattools as sts\n",
    "from statsmodels.tsa.seasonal import seasonal_decompose\n",
    "from scipy.stats.distributions import chi2\n",
    "from math import sqrt\n",
    "import seaborn as sns\n",
    "sns.set()"
   ]
  },
  {
   "cell_type": "code",
   "execution_count": 24,
   "id": "60867780",
   "metadata": {},
   "outputs": [],
   "source": [
    "raw_csv_data = pd.read_csv(\"data/Index2018.csv\")\n",
    "df_comp = raw_csv_data.copy()\n",
    "df_comp.date = pd.to_datetime(df_comp.date, format = \"%d/%m/%Y\")\n",
    "df_comp.set_index(\"date\",inplace = True)\n",
    "df_comp = df_comp.asfreq('b')\n",
    "df_comp = df_comp.fillna(method='ffill')\n",
    "df_comp['market_value'] = df_comp.ftse"
   ]
  },
  {
   "cell_type": "code",
   "execution_count": 25,
   "id": "b1a04e83",
   "metadata": {},
   "outputs": [],
   "source": [
    "size = int(len(df_comp) * 0.8)\n",
    "df,df_test = df_comp.iloc[:size],df_comp.iloc[size:]"
   ]
  },
  {
   "cell_type": "code",
   "execution_count": 26,
   "id": "a47f2788",
   "metadata": {},
   "outputs": [],
   "source": [
    "import warnings\n",
    "warnings.filterwarnings(\"ignore\")"
   ]
  },
  {
   "cell_type": "code",
   "execution_count": 27,
   "id": "122cd80c",
   "metadata": {},
   "outputs": [],
   "source": [
    "def LLR_test(mod_1,mod_2,DF=1):\n",
    "    L1 = mod_1.fit().llf\n",
    "    L2 = mod_2.fit().llf\n",
    "    LR = 2 * (L2 - L1)\n",
    "    p=chi2.sf(LR,DF).round(3)\n",
    "    return p"
   ]
  },
  {
   "cell_type": "code",
   "execution_count": 28,
   "id": "9eb93fec",
   "metadata": {},
   "outputs": [],
   "source": [
    "df['returns'] = df.market_value.pct_change(1) * 100"
   ]
  },
  {
   "cell_type": "code",
   "execution_count": 29,
   "id": "02b2d784",
   "metadata": {},
   "outputs": [
    {
     "data": {
      "text/html": [
       "<table class=\"simpletable\">\n",
       "<caption>SARIMAX Results</caption>\n",
       "<tr>\n",
       "  <th>Dep. Variable:</th>     <td>market_value</td>   <th>  No. Observations:  </th>    <td>5021</td>   \n",
       "</tr>\n",
       "<tr>\n",
       "  <th>Model:</th>            <td>ARIMA(1, 1, 1)</td>  <th>  Log Likelihood     </th> <td>-27604.005</td>\n",
       "</tr>\n",
       "<tr>\n",
       "  <th>Date:</th>            <td>Tue, 23 Nov 2021</td> <th>  AIC                </th>  <td>55214.010</td>\n",
       "</tr>\n",
       "<tr>\n",
       "  <th>Time:</th>                <td>18:25:49</td>     <th>  BIC                </th>  <td>55233.574</td>\n",
       "</tr>\n",
       "<tr>\n",
       "  <th>Sample:</th>             <td>01-07-1994</td>    <th>  HQIC               </th>  <td>55220.866</td>\n",
       "</tr>\n",
       "<tr>\n",
       "  <th></th>                   <td>- 04-05-2013</td>   <th>                     </th>      <td> </td>    \n",
       "</tr>\n",
       "<tr>\n",
       "  <th>Covariance Type:</th>        <td>opg</td>       <th>                     </th>      <td> </td>    \n",
       "</tr>\n",
       "</table>\n",
       "<table class=\"simpletable\">\n",
       "<tr>\n",
       "     <td></td>       <th>coef</th>     <th>std err</th>      <th>z</th>      <th>P>|z|</th>  <th>[0.025</th>    <th>0.975]</th>  \n",
       "</tr>\n",
       "<tr>\n",
       "  <th>ar.L1</th>  <td>    0.7459</td> <td>    0.059</td> <td>   12.653</td> <td> 0.000</td> <td>    0.630</td> <td>    0.861</td>\n",
       "</tr>\n",
       "<tr>\n",
       "  <th>ma.L1</th>  <td>   -0.7919</td> <td>    0.053</td> <td>  -14.924</td> <td> 0.000</td> <td>   -0.896</td> <td>   -0.688</td>\n",
       "</tr>\n",
       "<tr>\n",
       "  <th>sigma2</th> <td> 3498.7784</td> <td>   40.933</td> <td>   85.476</td> <td> 0.000</td> <td> 3418.551</td> <td> 3579.005</td>\n",
       "</tr>\n",
       "</table>\n",
       "<table class=\"simpletable\">\n",
       "<tr>\n",
       "  <th>Ljung-Box (L1) (Q):</th>     <td>2.63</td> <th>  Jarque-Bera (JB):  </th> <td>3326.22</td>\n",
       "</tr>\n",
       "<tr>\n",
       "  <th>Prob(Q):</th>                <td>0.11</td> <th>  Prob(JB):          </th>  <td>0.00</td>  \n",
       "</tr>\n",
       "<tr>\n",
       "  <th>Heteroskedasticity (H):</th> <td>1.90</td> <th>  Skew:              </th>  <td>-0.32</td> \n",
       "</tr>\n",
       "<tr>\n",
       "  <th>Prob(H) (two-sided):</th>    <td>0.00</td> <th>  Kurtosis:          </th>  <td>6.94</td>  \n",
       "</tr>\n",
       "</table><br/><br/>Warnings:<br/>[1] Covariance matrix calculated using the outer product of gradients (complex-step)."
      ],
      "text/plain": [
       "<class 'statsmodels.iolib.summary.Summary'>\n",
       "\"\"\"\n",
       "                               SARIMAX Results                                \n",
       "==============================================================================\n",
       "Dep. Variable:           market_value   No. Observations:                 5021\n",
       "Model:                 ARIMA(1, 1, 1)   Log Likelihood              -27604.005\n",
       "Date:                Tue, 23 Nov 2021   AIC                          55214.010\n",
       "Time:                        18:25:49   BIC                          55233.574\n",
       "Sample:                    01-07-1994   HQIC                         55220.866\n",
       "                         - 04-05-2013                                         \n",
       "Covariance Type:                  opg                                         \n",
       "==============================================================================\n",
       "                 coef    std err          z      P>|z|      [0.025      0.975]\n",
       "------------------------------------------------------------------------------\n",
       "ar.L1          0.7459      0.059     12.653      0.000       0.630       0.861\n",
       "ma.L1         -0.7919      0.053    -14.924      0.000      -0.896      -0.688\n",
       "sigma2      3498.7784     40.933     85.476      0.000    3418.551    3579.005\n",
       "===================================================================================\n",
       "Ljung-Box (L1) (Q):                   2.63   Jarque-Bera (JB):              3326.22\n",
       "Prob(Q):                              0.11   Prob(JB):                         0.00\n",
       "Heteroskedasticity (H):               1.90   Skew:                            -0.32\n",
       "Prob(H) (two-sided):                  0.00   Kurtosis:                         6.94\n",
       "===================================================================================\n",
       "\n",
       "Warnings:\n",
       "[1] Covariance matrix calculated using the outer product of gradients (complex-step).\n",
       "\"\"\""
      ]
     },
     "execution_count": 29,
     "metadata": {},
     "output_type": "execute_result"
    }
   ],
   "source": [
    "model_ar_1_i_1_ma_1 = ARIMA(df.market_value,order=(1,1,1))\n",
    "results_ar_1_i_1_ma_1 = model_ar_1_i_1_ma_1.fit()\n",
    "results_ar_1_i_1_ma_1.summary()"
   ]
  },
  {
   "cell_type": "code",
   "execution_count": 30,
   "id": "08d7e764",
   "metadata": {},
   "outputs": [
    {
     "data": {
      "image/png": "[encoded data removed]",
      "text/plain": [
       "<Figure size 1440x360 with 1 Axes>"
      ]
     },
     "metadata": {},
     "output_type": "display_data"
    }
   ],
   "source": [
    "df['res_ar_1_i_1_ma_1'] = results_ar_1_i_1_ma_1.resid\n",
    "df.res_ar_1_i_1_ma_1.plot(figsize=(20,5))\n",
    "plt.ylim(-200,200)\n",
    "plt.show()"
   ]
  },
  {
   "cell_type": "markdown",
   "id": "3208f43e",
   "metadata": {},
   "source": [
    "sgt.plot_acf(df.res_ar_1_i_1_ma_1[1:],lags=40,zero=False)\n",
    "plt.title(\"ACF for Residuals for Prices\",size =20)\n",
    "plt.ylim(-0.05,0.05)\n",
    "plt.show()"
   ]
  },
  {
   "cell_type": "markdown",
   "id": "a0b022c0",
   "metadata": {},
   "source": [
    "The 3rd and 4th lags seem highly significant, which suggests that these should be included in the model. 6th and 8th are also border-line significant.This means that we should look at all possible models from ARIMA(1,1,1) to ARIMA(4,1,4). That is 15 models in addition to ARIMA(1,1,1). Instructors has shortlisted the models that performed well, ie. the models which had all coefficients significant at the 5% level. This yields 5 models -\n",
    "\n",
    "ARIMA(1,1,2),ARIMA(1,1,3),ARIMA(2,1,1),ARIMA(3,1,1),ARIMA(3,1,2)"
   ]
  },
  {
   "cell_type": "markdown",
   "id": "a947ab4f",
   "metadata": {},
   "source": [
    "### Higher Lag ARIMA Models"
   ]
  },
  {
   "cell_type": "code",
   "execution_count": 31,
   "id": "50779990",
   "metadata": {},
   "outputs": [],
   "source": [
    "model_ar_1_i_1_ma_2 = ARIMA(df.market_value,order=(1,1,2))\n",
    "results_ar_1_i_1_ma_2 = model_ar_1_i_1_ma_2.fit()\n",
    "model_ar_1_i_1_ma_3 = ARIMA(df.market_value,order=(1,1,3))\n",
    "results_ar_1_i_1_ma_3 = model_ar_1_i_1_ma_3.fit()\n",
    "model_ar_2_i_1_ma_1 = ARIMA(df.market_value,order=(2,1,1))\n",
    "results_ar_2_i_1_ma_1 = model_ar_2_i_1_ma_1.fit()\n",
    "model_ar_3_i_1_ma_1 = ARIMA(df.market_value,order=(3,1,1))\n",
    "results_ar_3_i_1_ma_1 = model_ar_3_i_1_ma_1.fit()\n",
    "model_ar_3_i_1_ma_2 = ARIMA(df.market_value,order=(3,1,2))\n",
    "results_ar_3_i_1_ma_2 = model_ar_3_i_1_ma_2.fit()"
   ]
  },
  {
   "cell_type": "code",
   "execution_count": 32,
   "id": "4fc12577",
   "metadata": {},
   "outputs": [
    {
     "name": "stdout",
     "output_type": "stream",
     "text": [
      "\n",
      " ARIMA(1,1,1) : \tLL =  -27604.005116787335 \tAIC =  55214.01023357467\n",
      "\n",
      " ARIMA(1,1,2) : \tLL =  -27600.407632541024 \tAIC =  55208.81526508205\n",
      "\n",
      " ARIMA(1,1,3) : \tLL =  -27590.723481949706 \tAIC =  55191.44696389941\n",
      "\n",
      " ARIMA(2,1,1) : \tLL =  -27600.13055105335 \tAIC =  55208.2611021067\n",
      "\n",
      " ARIMA(3,1,1) : \tLL =  -27592.336116474202 \tAIC =  55194.672232948404\n",
      "\n",
      " ARIMA(3,1,2) : \tLL =  -27590.92031805083 \tAIC =  55193.84063610166\n"
     ]
    }
   ],
   "source": [
    "print(\"\\n ARIMA(1,1,1) : \\tLL = \",results_ar_1_i_1_ma_1.llf,\"\\tAIC = \",results_ar_1_i_1_ma_1.aic)\n",
    "print(\"\\n ARIMA(1,1,2) : \\tLL = \",results_ar_1_i_1_ma_2.llf,\"\\tAIC = \",results_ar_1_i_1_ma_2.aic)\n",
    "print(\"\\n ARIMA(1,1,3) : \\tLL = \",results_ar_1_i_1_ma_3.llf,\"\\tAIC = \",results_ar_1_i_1_ma_3.aic)\n",
    "print(\"\\n ARIMA(2,1,1) : \\tLL = \",results_ar_2_i_1_ma_1.llf,\"\\tAIC = \",results_ar_2_i_1_ma_1.aic)\n",
    "print(\"\\n ARIMA(3,1,1) : \\tLL = \",results_ar_3_i_1_ma_1.llf,\"\\tAIC = \",results_ar_3_i_1_ma_1.aic)\n",
    "print(\"\\n ARIMA(3,1,2) : \\tLL = \",results_ar_3_i_1_ma_2.llf,\"\\tAIC = \",results_ar_3_i_1_ma_2.aic)"
   ]
  },
  {
   "cell_type": "markdown",
   "id": "18b05f5c",
   "metadata": {},
   "source": [
    "Clearly, ARIMA(1,1,3) tops our list. As ARIMA(1,1,2) and ARIMA (1,1,1) are nested to it, we need to do an LLR test."
   ]
  },
  {
   "cell_type": "code",
   "execution_count": 33,
   "id": "2bd3afc6",
   "metadata": {},
   "outputs": [
    {
     "name": "stdout",
     "output_type": "stream",
     "text": [
      "\n",
      "ARIMA(1,1,3) vs ARIMA(1,1,2) =  0.0\n",
      "\n",
      "ARIMA(1,1,3) vs ARIMA(1,1,1) =  0.0\n"
     ]
    }
   ],
   "source": [
    "print(\"\\nARIMA(1,1,3) vs ARIMA(1,1,2) = \", LLR_test(model_ar_1_i_1_ma_2,model_ar_1_i_1_ma_3))\n",
    "print(\"\\nARIMA(1,1,3) vs ARIMA(1,1,1) = \", LLR_test(model_ar_1_i_1_ma_1,model_ar_1_i_1_ma_3,DF=2))"
   ]
  },
  {
   "cell_type": "markdown",
   "id": "45172a5f",
   "metadata": {},
   "source": [
    "ARIMA(1,1,3) seems to be the best. So, let us check the ACF of residuals."
   ]
  },
  {
   "cell_type": "code",
   "execution_count": 34,
   "id": "580ac180",
   "metadata": {},
   "outputs": [
    {
     "data": {
      "image/png": "[encoded data removed]",
      "text/plain": [
       "<Figure size 432x288 with 1 Axes>"
      ]
     },
     "metadata": {},
     "output_type": "display_data"
    }
   ],
   "source": [
    "df['res_ar_1_i_1_ma_3'] = results_ar_1_i_1_ma_3.resid\n",
    "sgt.plot_acf(df.res_ar_1_i_1_ma_3[1:],lags=40,zero=False)\n",
    "plt.title(\"ACF for Residuals for Prices ARIMA(1,1,3)\",size =20)\n",
    "plt.ylim(-0.05,0.05)\n",
    "plt.show()"
   ]
  },
  {
   "cell_type": "markdown",
   "id": "c8d47f8e",
   "metadata": {},
   "source": [
    "The 6th lag seems significant, which means that we have to consider models with LAG 6, that is all models under ARIMA(6,1,6). The instructor has found the important ones for us, the ones in which all coefficients are siginificant. ARIMA(6,1,3) and ARIMA(5,1,1)."
   ]
  },
  {
   "cell_type": "code",
   "execution_count": 35,
   "id": "7880dd6a",
   "metadata": {},
   "outputs": [],
   "source": [
    "model_ar_6_i_1_ma_3 = ARIMA(df.market_value,order=(6,1,3))\n",
    "results_ar_6_i_1_ma_3 = model_ar_6_i_1_ma_3.fit()\n",
    "model_ar_5_i_1_ma_1 = ARIMA(df.market_value,order=(5,1,1))\n",
    "results_ar_5_i_1_ma_1 = model_ar_5_i_1_ma_1.fit()"
   ]
  },
  {
   "cell_type": "code",
   "execution_count": 36,
   "id": "a6135f95",
   "metadata": {},
   "outputs": [
    {
     "name": "stdout",
     "output_type": "stream",
     "text": [
      "\n",
      " ARIMA(1,1,3) : \tLL =  -27590.723481949706 \tAIC =  55191.44696389941\n",
      "\n",
      " ARIMA(6,1,3) : \tLL =  -27583.858499808848 \tAIC =  55187.716999617696\n",
      "\n",
      " ARIMA(5,1,1) : \tLL =  -27586.84460958768 \tAIC =  55187.68921917536\n"
     ]
    }
   ],
   "source": [
    "print(\"\\n ARIMA(1,1,3) : \\tLL = \",results_ar_1_i_1_ma_3.llf,\"\\tAIC = \",results_ar_1_i_1_ma_3.aic)\n",
    "print(\"\\n ARIMA(6,1,3) : \\tLL = \",results_ar_6_i_1_ma_3.llf,\"\\tAIC = \",results_ar_6_i_1_ma_3.aic)\n",
    "print(\"\\n ARIMA(5,1,1) : \\tLL = \",results_ar_5_i_1_ma_1.llf,\"\\tAIC = \",results_ar_5_i_1_ma_1.aic)"
   ]
  },
  {
   "cell_type": "markdown",
   "id": "43e5e7c6",
   "metadata": {},
   "source": [
    "ARIMA(6,1,3) seems based on Log likelihood. We can also use LLR test to check as the other two models are nested."
   ]
  },
  {
   "cell_type": "code",
   "execution_count": 37,
   "id": "b0444b38",
   "metadata": {},
   "outputs": [
    {
     "name": "stdout",
     "output_type": "stream",
     "text": [
      "\n",
      "ARIMA(6,1,3) vs ARIMA(1,1,3) =  0.017\n",
      "\n",
      "ARIMA(6,1,3) vs ARIMA(5,1,1) =  0.113\n",
      "\n",
      "ARIMA(5,1,1) vs ARIMA(1,1,3) =  0.021\n"
     ]
    }
   ],
   "source": [
    "print(\"\\nARIMA(6,1,3) vs ARIMA(1,1,3) = \", LLR_test(model_ar_1_i_1_ma_3,model_ar_6_i_1_ma_3,DF=5))\n",
    "print(\"\\nARIMA(6,1,3) vs ARIMA(5,1,1) = \", LLR_test(model_ar_5_i_1_ma_1,model_ar_6_i_1_ma_3,DF=3))\n",
    "print(\"\\nARIMA(5,1,1) vs ARIMA(1,1,3) = \", LLR_test(model_ar_1_i_1_ma_3,model_ar_5_i_1_ma_1,DF=2))"
   ]
  },
  {
   "cell_type": "markdown",
   "id": "ec91d0be",
   "metadata": {},
   "source": [
    "ARIMA(6,1,3) is better than ARIMA(1,1,3), but not better than ARIMA(5,1,1), which is again better than ARIMA(1,1,3). Therefore, ARIMA(5,1,1) seems to be best."
   ]
  },
  {
   "cell_type": "code",
   "execution_count": 38,
   "id": "338f9006",
   "metadata": {},
   "outputs": [
    {
     "data": {
      "image/png": "[encoded data removed]",
      "text/plain": [
       "<Figure size 432x288 with 1 Axes>"
      ]
     },
     "metadata": {},
     "output_type": "display_data"
    }
   ],
   "source": [
    "df['res_ar_5_i_1_ma_1'] = results_ar_5_i_1_ma_1.resid\n",
    "sgt.plot_acf(df.res_ar_5_i_1_ma_1[1:],lags=40,zero=False)\n",
    "plt.title(\"ACF for Residuals for Prices ARIMA(5,1,1)\",size =20)\n",
    "plt.ylim(-0.05,0.05)\n",
    "plt.show()"
   ]
  },
  {
   "cell_type": "markdown",
   "id": "f849c965",
   "metadata": {},
   "source": [
    "Now, Lag 6 issue is resolved, and we can see that none of the lags upto 15 are significant."
   ]
  },
  {
   "cell_type": "code",
   "execution_count": 39,
   "id": "685bf92c",
   "metadata": {},
   "outputs": [
    {
     "name": "stdout",
     "output_type": "stream",
     "text": [
      "                               SARIMAX Results                                \n",
      "==============================================================================\n",
      "Dep. Variable:           market_value   No. Observations:                 5021\n",
      "Model:                 ARIMA(5, 1, 1)   Log Likelihood              -27586.845\n",
      "Date:                Tue, 23 Nov 2021   AIC                          55187.689\n",
      "Time:                        18:26:45   BIC                          55233.338\n",
      "Sample:                    01-07-1994   HQIC                         55203.685\n",
      "                         - 04-05-2013                                         \n",
      "Covariance Type:                  opg                                         \n",
      "==============================================================================\n",
      "                 coef    std err          z      P>|z|      [0.025      0.975]\n",
      "------------------------------------------------------------------------------\n",
      "ar.L1          0.4006      0.153      2.618      0.009       0.101       0.701\n",
      "ar.L2         -0.0444      0.011     -4.071      0.000      -0.066      -0.023\n",
      "ar.L3         -0.0542      0.013     -4.226      0.000      -0.079      -0.029\n",
      "ar.L4          0.0587      0.015      3.914      0.000       0.029       0.088\n",
      "ar.L5         -0.0580      0.009     -6.337      0.000      -0.076      -0.040\n",
      "ma.L1         -0.4208      0.153     -2.743      0.006      -0.721      -0.120\n",
      "sigma2      3479.0026     41.909     83.013      0.000    3396.862    3561.143\n",
      "===================================================================================\n",
      "Ljung-Box (L1) (Q):                   0.00   Jarque-Bera (JB):              3060.40\n",
      "Prob(Q):                              0.95   Prob(JB):                         0.00\n",
      "Heteroskedasticity (H):               1.90   Skew:                            -0.32\n",
      "Prob(H) (two-sided):                  0.00   Kurtosis:                         6.77\n",
      "===================================================================================\n",
      "\n",
      "Warnings:\n",
      "[1] Covariance matrix calculated using the outer product of gradients (complex-step).\n"
     ]
    }
   ],
   "source": [
    "print(results_ar_5_i_1_ma_1.summary())"
   ]
  },
  {
   "cell_type": "markdown",
   "id": "7a217ffb",
   "metadata": {},
   "source": [
    "### Higher Layers of Integration."
   ]
  },
  {
   "cell_type": "markdown",
   "id": "9ffe8095",
   "metadata": {},
   "source": [
    "The main purpose of integration is to make the non-stationary series stationary. If one layer/level of integration accomplishes the same, there's actually no need to go for higher levels. Morover, additional levels add computational complexity and slow down the process. How do we know if the first level of integration made our series stationary? We can first difference and check for stationarity."
   ]
  },
  {
   "cell_type": "code",
   "execution_count": 40,
   "id": "819e18f2",
   "metadata": {},
   "outputs": [
    {
     "data": {
      "text/html": [
       "<table class=\"simpletable\">\n",
       "<caption>SARIMAX Results</caption>\n",
       "<tr>\n",
       "  <th>Dep. Variable:</th>     <td>delta_prices</td>   <th>  No. Observations:  </th>    <td>5020</td>   \n",
       "</tr>\n",
       "<tr>\n",
       "  <th>Model:</th>            <td>ARIMA(1, 0, 1)</td>  <th>  Log Likelihood     </th> <td>-27603.666</td>\n",
       "</tr>\n",
       "<tr>\n",
       "  <th>Date:</th>            <td>Tue, 23 Nov 2021</td> <th>  AIC                </th>  <td>55215.333</td>\n",
       "</tr>\n",
       "<tr>\n",
       "  <th>Time:</th>                <td>18:26:50</td>     <th>  BIC                </th>  <td>55241.418</td>\n",
       "</tr>\n",
       "<tr>\n",
       "  <th>Sample:</th>             <td>01-10-1994</td>    <th>  HQIC               </th>  <td>55224.473</td>\n",
       "</tr>\n",
       "<tr>\n",
       "  <th></th>                   <td>- 04-05-2013</td>   <th>                     </th>      <td> </td>    \n",
       "</tr>\n",
       "<tr>\n",
       "  <th>Covariance Type:</th>        <td>opg</td>       <th>                     </th>      <td> </td>    \n",
       "</tr>\n",
       "</table>\n",
       "<table class=\"simpletable\">\n",
       "<tr>\n",
       "     <td></td>       <th>coef</th>     <th>std err</th>      <th>z</th>      <th>P>|z|</th>  <th>[0.025</th>    <th>0.975]</th>  \n",
       "</tr>\n",
       "<tr>\n",
       "  <th>const</th>  <td>    0.5639</td> <td>    0.753</td> <td>    0.749</td> <td> 0.454</td> <td>   -0.911</td> <td>    2.039</td>\n",
       "</tr>\n",
       "<tr>\n",
       "  <th>ar.L1</th>  <td>    0.7476</td> <td>    0.059</td> <td>   12.673</td> <td> 0.000</td> <td>    0.632</td> <td>    0.863</td>\n",
       "</tr>\n",
       "<tr>\n",
       "  <th>ma.L1</th>  <td>   -0.7937</td> <td>    0.053</td> <td>  -14.871</td> <td> 0.000</td> <td>   -0.898</td> <td>   -0.689</td>\n",
       "</tr>\n",
       "<tr>\n",
       "  <th>sigma2</th> <td> 3496.6352</td> <td>   41.191</td> <td>   84.888</td> <td> 0.000</td> <td> 3415.902</td> <td> 3577.368</td>\n",
       "</tr>\n",
       "</table>\n",
       "<table class=\"simpletable\">\n",
       "<tr>\n",
       "  <th>Ljung-Box (L1) (Q):</th>     <td>2.64</td> <th>  Jarque-Bera (JB):  </th> <td>3327.38</td>\n",
       "</tr>\n",
       "<tr>\n",
       "  <th>Prob(Q):</th>                <td>0.10</td> <th>  Prob(JB):          </th>  <td>0.00</td>  \n",
       "</tr>\n",
       "<tr>\n",
       "  <th>Heteroskedasticity (H):</th> <td>1.90</td> <th>  Skew:              </th>  <td>-0.32</td> \n",
       "</tr>\n",
       "<tr>\n",
       "  <th>Prob(H) (two-sided):</th>    <td>0.00</td> <th>  Kurtosis:          </th>  <td>6.94</td>  \n",
       "</tr>\n",
       "</table><br/><br/>Warnings:<br/>[1] Covariance matrix calculated using the outer product of gradients (complex-step)."
      ],
      "text/plain": [
       "<class 'statsmodels.iolib.summary.Summary'>\n",
       "\"\"\"\n",
       "                               SARIMAX Results                                \n",
       "==============================================================================\n",
       "Dep. Variable:           delta_prices   No. Observations:                 5020\n",
       "Model:                 ARIMA(1, 0, 1)   Log Likelihood              -27603.666\n",
       "Date:                Tue, 23 Nov 2021   AIC                          55215.333\n",
       "Time:                        18:26:50   BIC                          55241.418\n",
       "Sample:                    01-10-1994   HQIC                         55224.473\n",
       "                         - 04-05-2013                                         \n",
       "Covariance Type:                  opg                                         \n",
       "==============================================================================\n",
       "                 coef    std err          z      P>|z|      [0.025      0.975]\n",
       "------------------------------------------------------------------------------\n",
       "const          0.5639      0.753      0.749      0.454      -0.911       2.039\n",
       "ar.L1          0.7476      0.059     12.673      0.000       0.632       0.863\n",
       "ma.L1         -0.7937      0.053    -14.871      0.000      -0.898      -0.689\n",
       "sigma2      3496.6352     41.191     84.888      0.000    3415.902    3577.368\n",
       "===================================================================================\n",
       "Ljung-Box (L1) (Q):                   2.64   Jarque-Bera (JB):              3327.38\n",
       "Prob(Q):                              0.10   Prob(JB):                         0.00\n",
       "Heteroskedasticity (H):               1.90   Skew:                            -0.32\n",
       "Prob(H) (two-sided):                  0.00   Kurtosis:                         6.94\n",
       "===================================================================================\n",
       "\n",
       "Warnings:\n",
       "[1] Covariance matrix calculated using the outer product of gradients (complex-step).\n",
       "\"\"\""
      ]
     },
     "execution_count": 40,
     "metadata": {},
     "output_type": "execute_result"
    }
   ],
   "source": [
    "df['delta_prices'] = df.market_value.diff(1)\n",
    "model_delta_ar_1_i_1_ma_1 = ARIMA(df.delta_prices[1:],order=(1,0,1))\n",
    "results_delta_ar_1_i_1_ma_1=model_delta_ar_1_i_1_ma_1.fit()\n",
    "results_delta_ar_1_i_1_ma_1.summary()"
   ]
  },
  {
   "cell_type": "code",
   "execution_count": 41,
   "id": "04fdd96d",
   "metadata": {},
   "outputs": [
    {
     "data": {
      "text/plain": [
       "(-32.2440934957075,\n",
       " 0.0,\n",
       " 5,\n",
       " 5014,\n",
       " {'1%': -3.4316548765428174,\n",
       "  '5%': -2.8621166146845334,\n",
       "  '10%': -2.5670769326348926},\n",
       " 54845.96104221891)"
      ]
     },
     "execution_count": 41,
     "metadata": {},
     "output_type": "execute_result"
    }
   ],
   "source": [
    "sts.adfuller(df.delta_prices[1:])"
   ]
  },
  {
   "cell_type": "markdown",
   "id": "cd8497b7",
   "metadata": {},
   "source": [
    "Seems like this integrated series is stationary. So, we really have no reason to further difference the series."
   ]
  },
  {
   "cell_type": "markdown",
   "id": "f48c218b",
   "metadata": {},
   "source": [
    "### ARMAX and ARIMAX models"
   ]
  },
  {
   "cell_type": "markdown",
   "id": "58d6d3ac",
   "metadata": {},
   "source": [
    "Our models currently use the previous values of the same time series to predict the current value. In some case, incorporating values from some other series could also be helpful. ARMAX and ARIMAX model do just that. The exog parameter takes the values of the exogenous variables."
   ]
  },
  {
   "cell_type": "code",
   "execution_count": 46,
   "id": "899d031a",
   "metadata": {},
   "outputs": [
    {
     "data": {
      "text/html": [
       "<table class=\"simpletable\">\n",
       "<caption>SARIMAX Results</caption>\n",
       "<tr>\n",
       "  <th>Dep. Variable:</th>     <td>market_value</td>   <th>  No. Observations:  </th>    <td>5021</td>   \n",
       "</tr>\n",
       "<tr>\n",
       "  <th>Model:</th>            <td>ARIMA(1, 1, 1)</td>  <th>  Log Likelihood     </th> <td>-26693.392</td>\n",
       "</tr>\n",
       "<tr>\n",
       "  <th>Date:</th>            <td>Tue, 23 Nov 2021</td> <th>  AIC                </th>  <td>53394.784</td>\n",
       "</tr>\n",
       "<tr>\n",
       "  <th>Time:</th>                <td>18:42:55</td>     <th>  BIC                </th>  <td>53420.869</td>\n",
       "</tr>\n",
       "<tr>\n",
       "  <th>Sample:</th>             <td>01-07-1994</td>    <th>  HQIC               </th>  <td>53403.925</td>\n",
       "</tr>\n",
       "<tr>\n",
       "  <th></th>                   <td>- 04-05-2013</td>   <th>                     </th>      <td> </td>    \n",
       "</tr>\n",
       "<tr>\n",
       "  <th>Covariance Type:</th>        <td>opg</td>       <th>                     </th>      <td> </td>    \n",
       "</tr>\n",
       "</table>\n",
       "<table class=\"simpletable\">\n",
       "<tr>\n",
       "     <td></td>       <th>coef</th>     <th>std err</th>      <th>z</th>      <th>P>|z|</th>  <th>[0.025</th>    <th>0.975]</th>  \n",
       "</tr>\n",
       "<tr>\n",
       "  <th>spx</th>    <td>    2.6928</td> <td>    0.035</td> <td>   76.407</td> <td> 0.000</td> <td>    2.624</td> <td>    2.762</td>\n",
       "</tr>\n",
       "<tr>\n",
       "  <th>ar.L1</th>  <td>    0.2571</td> <td>    0.029</td> <td>    8.812</td> <td> 0.000</td> <td>    0.200</td> <td>    0.314</td>\n",
       "</tr>\n",
       "<tr>\n",
       "  <th>ma.L1</th>  <td>   -0.5460</td> <td>    0.025</td> <td>  -21.791</td> <td> 0.000</td> <td>   -0.595</td> <td>   -0.497</td>\n",
       "</tr>\n",
       "<tr>\n",
       "  <th>sigma2</th> <td> 2433.0771</td> <td>   27.350</td> <td>   88.961</td> <td> 0.000</td> <td> 2379.472</td> <td> 2486.682</td>\n",
       "</tr>\n",
       "</table>\n",
       "<table class=\"simpletable\">\n",
       "<tr>\n",
       "  <th>Ljung-Box (L1) (Q):</th>     <td>0.24</td> <th>  Jarque-Bera (JB):  </th> <td>4423.90</td>\n",
       "</tr>\n",
       "<tr>\n",
       "  <th>Prob(Q):</th>                <td>0.62</td> <th>  Prob(JB):          </th>  <td>0.00</td>  \n",
       "</tr>\n",
       "<tr>\n",
       "  <th>Heteroskedasticity (H):</th> <td>1.25</td> <th>  Skew:              </th>  <td>-0.57</td> \n",
       "</tr>\n",
       "<tr>\n",
       "  <th>Prob(H) (two-sided):</th>    <td>0.00</td> <th>  Kurtosis:          </th>  <td>7.45</td>  \n",
       "</tr>\n",
       "</table><br/><br/>Warnings:<br/>[1] Covariance matrix calculated using the outer product of gradients (complex-step)."
      ],
      "text/plain": [
       "<class 'statsmodels.iolib.summary.Summary'>\n",
       "\"\"\"\n",
       "                               SARIMAX Results                                \n",
       "==============================================================================\n",
       "Dep. Variable:           market_value   No. Observations:                 5021\n",
       "Model:                 ARIMA(1, 1, 1)   Log Likelihood              -26693.392\n",
       "Date:                Tue, 23 Nov 2021   AIC                          53394.784\n",
       "Time:                        18:42:55   BIC                          53420.869\n",
       "Sample:                    01-07-1994   HQIC                         53403.925\n",
       "                         - 04-05-2013                                         \n",
       "Covariance Type:                  opg                                         \n",
       "==============================================================================\n",
       "                 coef    std err          z      P>|z|      [0.025      0.975]\n",
       "------------------------------------------------------------------------------\n",
       "spx            2.6928      0.035     76.407      0.000       2.624       2.762\n",
       "ar.L1          0.2571      0.029      8.812      0.000       0.200       0.314\n",
       "ma.L1         -0.5460      0.025    -21.791      0.000      -0.595      -0.497\n",
       "sigma2      2433.0771     27.350     88.961      0.000    2379.472    2486.682\n",
       "===================================================================================\n",
       "Ljung-Box (L1) (Q):                   0.24   Jarque-Bera (JB):              4423.90\n",
       "Prob(Q):                              0.62   Prob(JB):                         0.00\n",
       "Heteroskedasticity (H):               1.25   Skew:                            -0.57\n",
       "Prob(H) (two-sided):                  0.00   Kurtosis:                         7.45\n",
       "===================================================================================\n",
       "\n",
       "Warnings:\n",
       "[1] Covariance matrix calculated using the outer product of gradients (complex-step).\n",
       "\"\"\""
      ]
     },
     "execution_count": 46,
     "metadata": {},
     "output_type": "execute_result"
    }
   ],
   "source": [
    "model_ar_1_i_1_ma_1_Xspx = ARIMA(df.market_value,exog = df.spx,order=(1,1,1))\n",
    "results_ar_1_i_1_ma_1_Xspx = model_ar_1_i_1_ma_1_Xspx.fit()\n",
    "results_ar_1_i_1_ma_1_Xspx.summary()"
   ]
  },
  {
   "cell_type": "markdown",
   "id": "2eb6451d",
   "metadata": {},
   "source": [
    "When the author does this, the coefficient of spx turns out to be insignificant, but when I try it it turns out to be significant. Not only that, the cofficients for the AR and MA lags in my model are also considerably different."
   ]
  },
  {
   "cell_type": "markdown",
   "id": "f7b88900",
   "metadata": {},
   "source": [
    "### Seasonal ARIMA"
   ]
  },
  {
   "cell_type": "markdown",
   "id": "656d54c3",
   "metadata": {},
   "source": [
    "SARIMA Models include extra set of terms for capturing seasonal terms. SARIMA(p,d,q)(P,D,Q,S). P,D,Q"
   ]
  },
  {
   "cell_type": "code",
   "execution_count": null,
   "id": "89700071",
   "metadata": {},
   "outputs": [],
   "source": []
  }
 ],
 "metadata": {
  "kernelspec": {
   "display_name": "Python 3 (ipykernel)",
   "language": "python",
   "name": "python3"
  },
  "language_info": {
   "codemirror_mode": {
    "name": "ipython",
    "version": 3
   },
   "file_extension": ".py",
   "mimetype": "text/x-python",
   "name": "python",
   "nbconvert_exporter": "python",
   "pygments_lexer": "ipython3",
   "version": "3.9.1"
  }
 },
 "nbformat": 4,
 "nbformat_minor": 5
}
